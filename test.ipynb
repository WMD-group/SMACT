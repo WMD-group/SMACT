{
 "cells": [
  {
   "cell_type": "code",
   "execution_count": 6,
   "id": "8ddddadb",
   "metadata": {},
   "outputs": [
    {
     "data": {
      "text/plain": [
       "False"
      ]
     },
     "execution_count": 6,
     "metadata": {},
     "output_type": "execute_result"
    }
   ],
   "source": [
    "from smact.screening import smact_validity\n",
    "from pymatgen.core import Composition\n",
    "\n",
    "smact_validity(\n",
    "    composition=Composition(\"HeLi\"),\n",
    "    oxidation_states_set=\"/Users/kinga/Documents/my_scripts/SMACT/commonality_oxstates_lists/high_commonality.txt\",\n",
    ")"
   ]
  },
  {
   "cell_type": "code",
   "execution_count": null,
   "id": "16796107",
   "metadata": {},
   "outputs": [],
   "source": [
    "from smact.utils.oxidation import ICSD24OxStatesFilter\n",
    "\n"
   ]
  }
 ],
 "metadata": {
  "kernelspec": {
   "display_name": "yellow",
   "language": "python",
   "name": "python3"
  },
  "language_info": {
   "codemirror_mode": {
    "name": "ipython",
    "version": 3
   },
   "file_extension": ".py",
   "mimetype": "text/x-python",
   "name": "python",
   "nbconvert_exporter": "python",
   "pygments_lexer": "ipython3",
   "version": "3.13.3"
  }
 },
 "nbformat": 4,
 "nbformat_minor": 5
}
