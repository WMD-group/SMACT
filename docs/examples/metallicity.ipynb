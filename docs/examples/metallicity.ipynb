{
 "cells": [
  {
   "cell_type": "markdown",
   "metadata": {},
   "source": [
    "# Using the metallicity module\n",
    "\n",
    "This document describes the enhancements made to SMACT to better handle metallic compounds and their classification. The changes introduce a scoring system for identifying and validating metallic compounds, moving beyond simple binary classification to provide a more nuanced understanding of a compound's metallic character.\n",
    "\n"
   ]
  },
  {
   "cell_type": "markdown",
   "metadata": {},
   "source": [
    "## Key Changes\n",
    "\n",
    "### 1. Module: `smact.metallicity`\n",
    "\n",
    "A dedicated module for handling metallic compounds with several specialized functions:\n",
    "\n",
    "#### `get_metal_fraction(composition)`\n",
    "\n",
    "- Calculates the fraction of metallic elements in a composition\n",
    "- Input: Chemical formula (str) or pymatgen Composition object\n",
    "- Output: Float between 0-1\n",
    "\n",
    "Example:"
   ]
  },
  {
   "cell_type": "code",
   "execution_count": null,
   "metadata": {},
   "outputs": [
    {
     "name": "stdout",
     "output_type": "stream",
     "text": [
      "The metallic fraction of Fe3Al is 1.0\n",
      "The metallic fraction of Fe2O3 0.4\n"
     ]
    }
   ],
   "source": [
    "from smact.metallicity import get_metal_fraction\n",
    "\n",
    "# Pure metallic compound - returns 1.0\n",
    "print(f'The metallic fraction of Fe3Al is {get_metal_fraction(\"Fe3Al\")}')  # Works with string formula (& Composition object)\n",
    "\n",
    "# Mixed compound - returns fraction of how much of the compound is metallic\n",
    "print(f'The metallic fraction of Fe2O3 {get_metal_fraction(\"Fe2O3\")}')  # 0.4"
   ]
  },
  {
   "cell_type": "markdown",
   "metadata": {},
   "source": [
    "#### `get_d_block_element_fraction(composition)`\n",
    "- Calculates the fraction of d-block elements\n",
    "- Important for transition metal compounds\n",
    "Example:"
   ]
  },
  {
   "cell_type": "code",
   "execution_count": null,
   "metadata": {},
   "outputs": [
    {
     "name": "stdout",
     "output_type": "stream",
     "text": [
      "The fraction of d block elements in Fe2Nb is 1.00\n",
      "The fraction of d block elements in Fe3Al is 0.75\n"
     ]
    }
   ],
   "source": [
    "from smact.metallicity import get_d_block_element_fraction\n",
    "\n",
    "# Pure transition metal compound - returns 1.0\n",
    "print(f\"The fraction of d block elements in Fe2Nb is {get_d_block_element_fraction('Fe2Nb'):.2f}\")\n",
    "\n",
    "# Mixed compound - returns fraction\n",
    "print(f\"The fraction of d block elements in Fe3Al is {get_d_block_element_fraction('Fe3Al'):.2f}\")  # 0.75 (Fe is d-block, Al is not)"
   ]
  },
  {
   "cell_type": "markdown",
   "metadata": {},
   "source": [
    "\n",
    "#### `get_distinct_metal_count(composition)`\n",
    "\n",
    "- Counts unique metallic elements\n",
    "- Useful for identifying complex metallic systems\n",
    "- Example:\n"
   ]
  },
  {
   "cell_type": "code",
   "execution_count": null,
   "metadata": {},
   "outputs": [
    {
     "name": "stdout",
     "output_type": "stream",
     "text": [
      "The distinct metal count of Fe3Al is 2\n",
      "The distinct metal count of NbTiAlCr is 4\n",
      "The distinct metal count of SiO2 is 0\n"
     ]
    }
   ],
   "source": [
    "from smact.metallicity import get_distinct_metal_count\n",
    "\n",
    "# Binary metallic compound\n",
    "print(f\"The distinct metal count of Fe3Al is {get_distinct_metal_count('Fe3Al')}\")  # Returns 2\n",
    "\n",
    "# Complex multi-component composition\n",
    "print(f\"The distinct metal count of NbTiAlCr is {get_distinct_metal_count('NbTiAlCr')}\")  # Returns 4\n",
    "\n",
    "# Non-metallic compound\n",
    "print(f\"The distinct metal count of SiO2 is {get_distinct_metal_count('SiO2')}\")  # Returns 0"
   ]
  },
  {
   "cell_type": "markdown",
   "metadata": {},
   "source": [
    "\n",
    "#### `get_pauling_test_mismatch(composition)`\n",
    "\n",
    "- Calculates deviation from ideal electronegativity ordering\n",
    "- Handles both metal-metal and metal-nonmetal pairs\n",
    "- Lower scores indicate more metallic-like bonding\n",
    "- Example:"
   ]
  },
  {
   "cell_type": "code",
   "execution_count": null,
   "metadata": {},
   "outputs": [
    {
     "name": "stdout",
     "output_type": "stream",
     "text": [
      "The Pauling test mismatch of Fe3Al is 0.22\n",
      "The Pauling test mismatch of NaCl is 2.23\n"
     ]
    }
   ],
   "source": [
    "from smact.metallicity import get_pauling_test_mismatch\n",
    "\n",
    "# Metallic compound - low mismatch\n",
    "print(f\"The Pauling test mismatch of Fe3Al is {get_pauling_test_mismatch('Fe3Al'):.2f}\")  # 0.22\n",
    "\n",
    "# Ionic compound - high mismatch\n",
    "print(f\"The Pauling test mismatch of NaCl is {get_pauling_test_mismatch('NaCl'):.2f}\")  # 2.23"
   ]
  },
  {
   "cell_type": "markdown",
   "metadata": {},
   "source": [
    "#### `metallicity_score(composition)`\n",
    "\n",
    "- Main scoring function combining multiple metrics\n",
    "- Returns a score between 0-1\n",
    "- Higher scores indicate more metallic character\n",
    "\n",
    "Example:"
   ]
  },
  {
   "cell_type": "code",
   "execution_count": null,
   "metadata": {},
   "outputs": [
    {
     "name": "stdout",
     "output_type": "stream",
     "text": [
      "The metallicity score of Fe3Al is 0.85\n",
      "The metallicity score of Ni3Ti is 0.91\n",
      "The metallicity score of NaCl is 0.33\n",
      "The metallicity score of Fe2O3 is 0.46\n",
      "The metallicity score of SiO2 is 0.17\n"
     ]
    }
   ],
   "source": [
    "from smact.metallicity import metallicity_score\n",
    "\n",
    "# Metallic compounds - high scores\n",
    "print(f\"The metallicity score of Fe3Al is {metallicity_score('Fe3Al'):.2f}\")  # ~0.85\n",
    "print(f\"The metallicity score of Ni3Ti is {metallicity_score('Ni3Ti'):.2f}\")  # ~0.91\n",
    "\n",
    "# Non-metallic compounds - low scores\n",
    "print(f\"The metallicity score of NaCl is {metallicity_score('NaCl'):.2f}\")  # 0.33\n",
    "print(f\"The metallicity score of Fe2O3 is {metallicity_score('Fe2O3'):.2f}\")  # 0.46\n",
    "print(f\"The metallicity score of SiO2 is {metallicity_score('SiO2'):.2f}\")  # 0.17"
   ]
  },
  {
   "cell_type": "markdown",
   "metadata": {},
   "source": [
    "\n",
    "### 2. Enhanced `smact_validity`\n",
    "\n",
    "The existing `smact_validity` function in `smact.screening` has been enhanced with three validation paths:\n",
    "\n",
    "1. Standard validation (charge neutrality and electronegativity)\n",
    "2. Simple metal validation\n",
    "3. Metallicity scoring validation\n",
    "\n",
    "Example usage showing all validation paths:"
   ]
  },
  {
   "cell_type": "code",
   "execution_count": null,
   "metadata": {},
   "outputs": [
    {
     "name": "stdout",
     "output_type": "stream",
     "text": [
      "Is Fe3Al valid without an alloy check? False\n",
      "Is Fe3Al valid with an alloy check? True\n",
      "Is Fe3Al valid with a metallicity check? True\n",
      "Is Fe3Al valid with all checks? True\n"
     ]
    }
   ],
   "source": [
    "from smact.screening import smact_validity\n",
    "\n",
    "# Test with different validation methods\n",
    "compound = \"Fe3Al\"\n",
    "\n",
    "# 1. Standard validation (no alloy/metallicity check)\n",
    "is_valid_standard = smact_validity(\n",
    "    compound, use_pauling_test=True, include_alloys=False, check_metallicity=False\n",
    ")\n",
    "print(f\"Is {compound} valid without an alloy check? {is_valid_standard}\")\n",
    "# 2. With alloy detection\n",
    "is_valid_alloy = smact_validity(\n",
    "    compound, use_pauling_test=True, include_alloys=True, check_metallicity=False\n",
    ")\n",
    "\n",
    "print(f\"Is {compound} valid with an alloy check? {is_valid_alloy}\")\n",
    "# 3. With metallicity detection\n",
    "is_valid_metallic = smact_validity(\n",
    "    compound,\n",
    "    use_pauling_test=True,\n",
    "    include_alloys=False,\n",
    "    check_metallicity=True,\n",
    "    metallicity_threshold=0.7,\n",
    ")\n",
    "print(f\"Is {compound} valid with a metallicity check? {is_valid_metallic}\")\n",
    "# Or combine methods\n",
    "is_valid = smact_validity(\n",
    "    compound,\n",
    "    use_pauling_test=True,\n",
    "    include_alloys=True,\n",
    "    check_metallicity=True,\n",
    "    metallicity_threshold=0.7,\n",
    ")\n",
    "print(f\"Is {compound} valid with all checks? {is_valid}\")"
   ]
  },
  {
   "cell_type": "markdown",
   "metadata": {},
   "source": [
    "### 3. Comprehensive Analysis Example\n",
    "\n",
    "Here's how to perform a detailed analysis of a compound:"
   ]
  },
  {
   "cell_type": "code",
   "execution_count": null,
   "metadata": {},
   "outputs": [
    {
     "name": "stdout",
     "output_type": "stream",
     "text": [
      "Analysis of Fe3Al:\n",
      "Metal fraction: 1.00\n",
      "d-electron fraction: 0.75\n",
      "Distinct metals: 2\n",
      "Pauling mismatch: 0.22\n",
      "Metallicity score: 0.85\n",
      "Valid (standard): False\n",
      "Valid (alloy): True\n",
      "Valid (metallic): True\n",
      "--------------------------------------------------\n",
      "Analysis of NaCl:\n",
      "Metal fraction: 0.50\n",
      "d-electron fraction: 0.00\n",
      "Distinct metals: 1\n",
      "Pauling mismatch: 2.23\n",
      "Metallicity score: 0.33\n",
      "Valid (standard): True\n",
      "Valid (alloy): True\n",
      "Valid (metallic): True\n",
      "--------------------------------------------------\n",
      "Analysis of Fe2O3:\n",
      "Metal fraction: 0.40\n",
      "d-electron fraction: 0.40\n",
      "Distinct metals: 1\n",
      "Pauling mismatch: 1.61\n",
      "Metallicity score: 0.46\n",
      "Valid (standard): True\n",
      "Valid (alloy): True\n",
      "Valid (metallic): True\n",
      "--------------------------------------------------\n",
      "Analysis of Cu2MgSn:\n",
      "Metal fraction: 1.00\n",
      "d-electron fraction: 0.50\n",
      "Distinct metals: 3\n",
      "Pauling mismatch: 0.43\n",
      "Metallicity score: 0.86\n",
      "Valid (standard): True\n",
      "Valid (alloy): True\n",
      "Valid (metallic): True\n",
      "--------------------------------------------------\n",
      "Analysis of NbTiAlCr:\n",
      "Metal fraction: 1.00\n",
      "d-electron fraction: 0.75\n",
      "Distinct metals: 4\n",
      "Pauling mismatch: 0.06\n",
      "Metallicity score: 0.88\n",
      "Valid (standard): False\n",
      "Valid (alloy): True\n",
      "Valid (metallic): True\n",
      "--------------------------------------------------\n"
     ]
    }
   ],
   "source": [
    "from smact.metallicity import *\n",
    "from smact.screening import smact_validity\n",
    "import math\n",
    "\n",
    "def analyze_compound(formula):\n",
    "    \"\"\"Perform comprehensive analysis of a compound.\"\"\"\n",
    "    # Basic metrics\n",
    "    metal_frac = get_metal_fraction(formula)\n",
    "    d_frac = get_d_block_element_fraction(formula)\n",
    "    n_metals = get_distinct_metal_count(formula)\n",
    "    pauling = get_pauling_test_mismatch(formula)\n",
    "    score = metallicity_score(formula)\n",
    "\n",
    "    # Validity checks\n",
    "    valid_standard = smact_validity(\n",
    "        formula, use_pauling_test=True, include_alloys=False, check_metallicity=False\n",
    "    )\n",
    "    valid_alloy = smact_validity(\n",
    "        formula, use_pauling_test=True, include_alloys=True, check_metallicity=False\n",
    "    )\n",
    "    valid_metallic = smact_validity(\n",
    "        formula, use_pauling_test=True, include_alloys=False, check_metallicity=True\n",
    "    )\n",
    "\n",
    "    print(f\"Analysis of {formula}:\")\n",
    "    print(f\"Metal fraction: {metal_frac:.2f}\")\n",
    "    print(f\"d-electron fraction: {d_frac:.2f}\")\n",
    "    print(f\"Distinct metals: {n_metals}\")\n",
    "    print(f\"Pauling mismatch: {'nan' if math.isnan(pauling) else f'{pauling:.2f}'}\")\n",
    "    print(f\"Metallicity score: {score:.2f}\")\n",
    "    print(f\"Valid (standard): {valid_standard}\")\n",
    "    print(f\"Valid (alloy): {valid_alloy}\")\n",
    "    print(f\"Valid (metallic): {valid_metallic}\")\n",
    "\n",
    "\n",
    "# Example usage\n",
    "compounds = [\n",
    "    \"Fe3Al\",  # Classic intermetallic\n",
    "    \"NaCl\",  # Ionic\n",
    "    \"Fe2O3\",  # Metal oxide\n",
    "    \"Cu2MgSn\",  # Heusler alloy\n",
    "    \"NbTiAlCr\",  # High-entropy alloy\n",
    "]\n",
    "\n",
    "for compound in compounds:\n",
    "    analyze_compound(compound)\n",
    "    print(\"-\" * 50)"
   ]
  },
  {
   "cell_type": "markdown",
   "metadata": {},
   "source": [
    "## Machine Learning Classification\n",
    "\n",
    "The metallicity module has been used in conjunction with machine learning approaches to predict the metallic nature of compounds. The `metallicity_classification.ipynb` notebook demonstrates how these chemical descriptors can be used to train models for predicting whether a compound will exhibit metallic behavior.\n",
    "\n",
    "The classification task uses features derived from the metallicity module including:\n",
    "\n",
    "- Metal fraction\n",
    "- d-block element fraction\n",
    "- Number of distinct metals\n",
    "- Pauling electronegativity mismatch\n",
    "- Overall metallicity score\n",
    "\n",
    "These features are used to train models that can predict the likelihood of metallic behavior in compounds, which is more general than specifically predicting intermetallic behavior. This approach allows for a broader understanding of metallic character in materials, encompassing various types of metallic systems including:\n",
    "\n",
    "- Traditional metals and alloys\n",
    "- Intermetallic compounds\n",
    "- Solid solutions\n",
    "- Metallic glasses\n",
    "- Mixed-character compounds\n",
    "\n",
    "## Future Development Directions\n",
    "\n",
    "1. **Specialized Submodules**\n",
    "\n",
    "   - Development of specific modules for different types of metallic systems:\n",
    "     - Intermetallic compound prediction\n",
    "     - Solid solution formation\n",
    "     - Amorphous metal formation\n",
    "   - Integration with structure prediction\n",
    "\n",
    "   - Incorporate atomic size factors\n",
    "   - Add structure prediction capabilities\n",
    "   - Include formation energy estimates - linking back to Miedema's model [DOI Link](https://doi.org/10.1016/j.cpc.2016.08.013)\n",
    "\n",
    "2. **Validation and Refinement**\n",
    "\n",
    "   - Benchmark against experimental databases\n",
    "   - Refine scoring weights with more data\n",
    "   - Add support for mixed-valence compounds\n",
    "\n",
    "3. **Extended Functionality**\n",
    "   - Add support for partial occupancies\n",
    "   - Include temperature-dependent properties\n",
    "   - Integrate with phase diagram tools\n",
    "\n",
    "## Contributing\n",
    "\n",
    "Contributions to improve the metallicity functionality are welcome! Areas particularly in need of development:\n",
    "\n",
    "1. Additional test cases and validation\n",
    "2. Refinement of scoring weights\n",
    "3. Integration with external databases\n",
    "4. Development of specialized submodules for specific metallic systems\n",
    "5. Performance optimization for large-scale screening\n",
    "\n",
    "## References\n",
    "\n",
    "1. Original SMACT paper: [SMACT: Semiconducting Materials by Analogy and Chemical Theory](https://joss.theoj.org/papers/10.21105/joss.01361)\n",
    "2. Intermetallics theory and classification literature sources:\n",
    "\n",
    "   - D.G. Pettifor introduced the concept of a single \"chemical scale\" or \"structure map\" coordinate (Pettifor number) to systematically separate compound classes [1, p. 31]. The new intermetallicscore is a step in that direction but customized to SMACT's internal data structures.\n",
    "\n",
    "     - Reference: D.G. Pettifor, \"A chemical scale for crystal-structure maps,\" Solid State Communications. 51 (1984) 31–34. [DOI Link](<https://doi.org/10.1016/0038-1098(84)90765-8>)\n",
    "\n",
    "   - The role of charge transfer and atomic size mismatch is pivotal in stabilizing intermetallic phases. Miedema's framework quantifies these effects, making it useful for predicting alloying behaviors and crystal structure. The parameters coded here, while conceptually similar, have not implemented Miedema's model directly.\n",
    "   - Reference: A.R. Miedema, Cohesion in alloys - fundamentals of a semi-empirical model.[DOI Link](<https://doi.org/10.1016/0378-4363(80)90054-6>)\n",
    "\n",
    "3. Electronegativity scales and their role in predicting bonding character (Pauling electronegativity)"
   ]
  }
 ],
 "metadata": {
  "kernelspec": {
   "display_name": "ml-env",
   "language": "python",
   "name": "python3"
  },
  "language_info": {
   "codemirror_mode": {
    "name": "ipython",
    "version": 3
   },
   "file_extension": ".py",
   "mimetype": "text/x-python",
   "name": "python",
   "nbconvert_exporter": "python",
   "pygments_lexer": "ipython3",
   "version": "3.11.11"
  }
 },
 "nbformat": 4,
 "nbformat_minor": 2
}
