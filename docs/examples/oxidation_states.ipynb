{
 "cells": [
  {
   "cell_type": "markdown",
   "metadata": {},
   "source": [
    "# Using oxidation states\n",
    "\n",
    "Here, we will demonstrate the main functionalities of the `oxidation_states` submodule of SMACT."
   ]
  },
  {
   "cell_type": "code",
   "execution_count": null,
   "metadata": {},
   "outputs": [],
   "source": [
    "# Imports\n",
    "\n",
    "from pymatgen.core import Structure, Lattice\n",
    "from smact import Species\n",
    "from smact.oxidation_states import Oxidation_state_probability_finder"
   ]
  },
  {
   "cell_type": "markdown",
   "metadata": {},
   "source": [
    "## Getting started with the oxidation_states submodule\n",
    "\n",
    "The main class of the `smact.oxidation_states` submodule is `Oxidation_state_probability_finder`. We will demonstrate the usage of the methods of this class below."
   ]
  },
  {
   "cell_type": "code",
   "execution_count": null,
   "metadata": {},
   "outputs": [],
   "source": [
    "# Instantiate the oxidation state probability finder class with the default table\n",
    "ox_prob_finder = Oxidation_state_probability_finder()"
   ]
  },
  {
   "cell_type": "markdown",
   "metadata": {},
   "source": [
    "After instantiating the class, we can examine what species are included in the probability table through the `get_included_species` method."
   ]
  },
  {
   "cell_type": "code",
   "execution_count": null,
   "metadata": {},
   "outputs": [
    {
     "name": "stdout",
     "output_type": "stream",
     "text": [
      "The species included in the probability table for the oxidation states model are show below \n",
      "['Cl-1', 'Te-2', 'S-2', 'F-1', 'O-2', 'I-1', 'Br-1', 'Se-2', 'Li1', 'Ga3', 'Nb5', 'Co4', 'Ga1', 'Cr3', 'Ge2', 'Sr2', 'Ce2', 'Sc3', 'Sm3', 'Bi2', 'Hf2', 'Ni1', 'In2', 'Ce4', 'Ge4', 'Pd4', 'W2', 'Ta5', 'Ho3', 'Sn2', 'Mn4', 'Gd2', 'Tl3', 'Fe1', 'Zn2', 'Nd2', 'Cr4', 'Rb1', 'Bi5', 'Be2', 'W3', 'Nb2', 'Re5', 'Ti3', 'Co2', 'W5', 'Fe2', 'Re6', 'Pr3', 'Sm2', 'U3', 'U4', 'Ni2', 'K1', 'Bi1', 'Ho2', 'Nb4', 'Tm2', 'Pb4', 'Nd3', 'W4', 'Gd3', 'Rh1', 'Mn6', 'Y3', 'Bi3', 'Mn1', 'Al3', 'Ta2', 'Er3', 'Eu2', 'Ir4', 'Hg1', 'Ag1', 'Sn4', 'Ta1', 'Ta3', 'U5', 'U6', 'V5', 'Tb3', 'Rh3', 'Ta4', 'Mo2', 'Nb1', 'Nb3', 'Mg2', 'Hg2', 'Ru2', 'Ag3', 'Mn5', 'Ce3', 'Pr2', 'Re3', 'Ag2', 'Mo3', 'Cu2', 'Y2', 'Cr2', 'Dy3', 'Zr4', 'Zr1', 'Mo5', 'Sn3', 'Ba2', 'Th4', 'Co1', 'Cs1', 'Ru3', 'U2', 'Rh4', 'Tb2', 'Mn2', 'La3', 'Mn3', 'Cr5', 'Zr2', 'Ti4', 'Ni4', 'Ni3', 'Ru6', 'V2', 'Re4', 'Pb2', 'Y1', 'W6', 'Tl1', 'Ru4', 'La1', 'Ga2', 'Re7', 'Sb5', 'Tb4', 'Mo4', 'Fe4', 'In3', 'Dy2', 'Sc1', 'Lu3', 'In1', 'Yb3', 'Pd2', 'Pd3', 'Ti2', 'Ge3', 'Ir6', 'Cd2', 'Sc2', 'Re2', 'Sb3', 'Tb1', 'Ir5', 'Ca2', 'Th3', 'Zr3', 'Cu3', 'Yb2', 'Ir3', 'Sb4', 'V4', 'Mo6', 'Fe3', 'Mn7', 'Co3', 'Cu1', 'Na1', 'Ru5', 'Eu3', 'V3', 'Hf4', 'Tm3', 'Cr6', 'La2']\n"
     ]
    }
   ],
   "source": [
    "included_species = ox_prob_finder.get_included_species()\n",
    "\n",
    "print(\n",
    "    f\"The species included in the probability table for the oxidation states model are show below \\n{included_species}\"\n",
    ")"
   ]
  },
  {
   "cell_type": "markdown",
   "metadata": {},
   "source": [
    "We can compute the probability of a cation-anion pair appearing together using the method `pair_probability` as demonstrated below for Al<sup>3+</sup> and O<sup>2-</sup>. The pair probability for a species-anion pair ($P_{SA}$) is given by:\n",
    "\n",
    "$P_{SA} = \\frac{N_{SX}}{N_{MX}}$\n",
    "\n",
    "where $N_{MX}$ is the total number of compounds containing the metal element M, and X is the most electronegative anion."
   ]
  },
  {
   "cell_type": "code",
   "execution_count": null,
   "metadata": {},
   "outputs": [
    {
     "name": "stdout",
     "output_type": "stream",
     "text": [
      " The probability of Al existing in a 3+ oxidation state with O in a 2- oxidation state is 1.0\n"
     ]
    }
   ],
   "source": [
    "Al = Species(\"Al\", oxidation=3, coordination=6)\n",
    "O = Species(\"O\", oxidation=-2, coordination=6)\n",
    "\n",
    "print(\n",
    "    f\" The probability of Al existing in a 3+ oxidation state with O in a 2- oxidation state is {ox_prob_finder.pair_probability(Al, O)}\"\n",
    ")"
   ]
  },
  {
   "cell_type": "markdown",
   "metadata": {},
   "source": [
    "We can also compute the compound probability which for a ternary compound, A<sub>a</sub>B<sub>b</sub>X<sub>x</sub>, is given by:\n",
    "\n",
    "$P_{A_{a}B_{b}X_{x}} = P_{AX}P_{BX} = \\frac{N_{AX}}{N_{M_{A}X}} \\times \\frac{N_{BX}}{N_{M_{B}X}}$\n",
    "\n",
    "We will calculate $P_{CaAl_{2}O_{4}}$."
   ]
  },
  {
   "cell_type": "code",
   "execution_count": null,
   "metadata": {},
   "outputs": [
    {
     "name": "stdout",
     "output_type": "stream",
     "text": [
      "The compound probability for CaAl2O4 is 1.0.\n"
     ]
    }
   ],
   "source": [
    "# Create a list of species for our compound of interest\n",
    "CaAl2O4 = [Species(\"Ca\", 2), Species(\"Al\", 3), Species(\"O\", -2)]\n",
    "\n",
    "prob_compound = ox_prob_finder.compound_probability(CaAl2O4)\n",
    "\n",
    "print(f\"The compound probability for CaAl2O4 is {prob_compound}.\")"
   ]
  },
  {
   "cell_type": "markdown",
   "metadata": {},
   "source": [
    "We can compute this compound probability for a pymatgen Structure as well."
   ]
  },
  {
   "cell_type": "code",
   "execution_count": null,
   "metadata": {},
   "outputs": [
    {
     "name": "stdout",
     "output_type": "stream",
     "text": [
      "The structure of CsPbI3:\n",
      "\n",
      "Full Formula (Cs1 Pb1 I3)\n",
      "Reduced Formula: CsPbI3\n",
      "abc   :   6.410000   6.410000   6.410000\n",
      "angles:  90.000000  90.000000  90.000000\n",
      "pbc   :       True       True       True\n",
      "Sites (5)\n",
      "  #  SP      a    b    c\n",
      "---  ----  ---  ---  ---\n",
      "  0  Pb2+  0    0    0\n",
      "  1  Cs+   0.5  0.5  0.5\n",
      "  2  I-    0    0.5  0\n",
      "  3  I-    0.5  0    0\n",
      "  4  I-    0    0    0.5\n",
      "\n",
      "The compound probability for CsPbI3 is 1.0.\n"
     ]
    }
   ],
   "source": [
    "# Create the structure\n",
    "\n",
    "CsPbI3 = Structure.from_spacegroup(\n",
    "    \"Pm-3m\",  # Spacegroup for a cubic perovskite\n",
    "    Lattice.cubic(6.41),  # Cubic spacing of 6.41 Å\n",
    "    [\"Pb2+\", \"Cs+\", \"I-\"],  # Unique species of the ABX3 compound\n",
    "    [[0.0, 0.0, 0.0], [0.5, 0.5, 0.5], [0.0, 0.0, 0.5]],  # Fractional atomic coordinates of each site\n",
    ")\n",
    "print(\"The structure of CsPbI3:\\n\")\n",
    "print(CsPbI3)\n",
    "\n",
    "\n",
    "# Get the compound probability for CsPbI3\n",
    "prob = ox_prob_finder.compound_probability(CsPbI3)\n",
    "\n",
    "print(f\"\\nThe compound probability for CsPbI3 is {prob_compound}.\")"
   ]
  }
 ],
 "metadata": {
  "kernelspec": {
   "display_name": "smact_dev",
   "language": "python",
   "name": "python3"
  },
  "language_info": {
   "codemirror_mode": {
    "name": "ipython",
    "version": 3
   },
   "file_extension": ".py",
   "mimetype": "text/x-python",
   "name": "python",
   "nbconvert_exporter": "python",
   "pygments_lexer": "ipython3",
   "version": "3.10.14"
  }
 },
 "nbformat": 4,
 "nbformat_minor": 2
}
