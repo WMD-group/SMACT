{
 "cells": [
  {
   "attachments": {},
   "cell_type": "markdown",
   "id": "0",
   "metadata": {},
   "source": [
    "# Using validity \n",
    "\n",
    "The `smact_validity` function from the `smact.screening` module is used to validate chemical compositions according to the chemical rules. A composition is considered valid if it passes two key tests:\n",
    "\n",
    "1. **Charge Neutrality Test**: Ensures that the composition is charge-balanced.\n",
    "\n",
    "2. **Pauling Electronegativity Test**: Ensures that the elements in the composition have appropriate electronegativity differences.\n",
    "\n",
    "In this example, we apply the `smact_validity` function to a list of chemical compounds extracted from a dataset. "
   ]
  },
  {
   "cell_type": "code",
   "execution_count": null,
   "id": "1",
   "metadata": {},
   "outputs": [
    {
     "name": "stdout",
     "output_type": "stream",
     "text": [
      "    Compound  smact_allowed\n",
      "0       NaCl           True\n",
      "1        K2O           True\n",
      "2      Fe2O3           True\n",
      "3  C12H22O11          False\n",
      "4       CsO8          False\n",
      "smact_allowed\n",
      "True     0.6\n",
      "False    0.4\n",
      "Name: proportion, dtype: float64\n"
     ]
    }
   ],
   "source": [
    "import pandas as pd\n",
    "from smact.screening import smact_validity\n",
    "import re\n",
    "\n",
    "# Dataset\n",
    "data = [\"NaCl\", \"K2O\", \"Fe2O3\", \"C12H22O11\", \"CsO8\"]\n",
    "\n",
    "# Create a DataFrame with compound data\n",
    "df = pd.DataFrame(data, columns=[\"Compound\"])\n",
    "\n",
    "# Apply smact_validity to check if compounds are valid according to SMACT rules\n",
    "df[\"smact_allowed\"] = df[\"Compound\"].apply(smact_validity)\n",
    "\n",
    "# Display the filtered and validated DataFrame\n",
    "print(df)\n",
    "\n",
    "# Calculate and display the fraction of valid compounds\n",
    "fractions = df[\"smact_allowed\"].value_counts(normalize=True)\n",
    "print(fractions)"
   ]
  },
  {
   "cell_type": "markdown",
   "id": "2",
   "metadata": {},
   "source": [
    "### You can also get all valid combinations instead of just a boolean\n",
    "\n",
    "This is useful if you want to see all the valid combinations for a given composition instead of just a boolean in the case of a short-circuiting check. \n"
   ]
  },
  {
   "cell_type": "code",
   "execution_count": null,
   "id": "3",
   "metadata": {},
   "outputs": [
    {
     "name": "stdout",
     "output_type": "stream",
     "text": [
      "Number of valid combos: 1\n",
      "(('Fe', 'O'), (2, 3))\n"
     ]
    }
   ],
   "source": [
    "from smact.screening import smact_validity\n",
    "\n",
    "all_valid = smact_validity(\"Fe2O3\", return_all=True)\n",
    "print(\"Number of valid combos:\", len(all_valid))\n",
    "for combo in all_valid:\n",
    "    print(combo)\n"
   ]
  }
 ],
 "metadata": {
  "kernelspec": {
   "display_name": "materialsinformatics",
   "language": "python",
   "name": "python3"
  },
  "language_info": {
   "codemirror_mode": {
    "name": "ipython",
    "version": 3
   },
   "file_extension": ".py",
   "mimetype": "text/x-python",
   "name": "python",
   "nbconvert_exporter": "python",
   "pygments_lexer": "ipython3",
   "version": "3.13.0"
  }
 },
 "nbformat": 4,
 "nbformat_minor": 5
}
