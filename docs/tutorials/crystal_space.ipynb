{
 "cells": [
  {
   "cell_type": "markdown",
   "metadata": {},
   "source": [
    "# Exploring crystal space"
   ]
  },
  {
   "cell_type": "markdown",
   "metadata": {},
   "source": [
    "Our goal is to generate, analyze, and categorize chemical compositions, making it easier to discover interesting and useful materials. This tutorial is based on a publication in [Faraday Discussions](https://pubs.rsc.org/en/content/articlelanding/2024/fd/d4fd00063c)."
   ]
  },
  {
   "cell_type": "markdown",
   "metadata": {},
   "source": [
    "## 1. Getting started\n",
    "\n",
    "In this tutorial, we'll:\n",
    "\n",
    "- Generate binary chemical compositions using the SMACT filter.\n",
    "- Explore whether these compositions exist in the Materials Project database.\n",
    "- Categorize the compositions based on whether they pass the SMACT filter and whether they are found in the database.\n",
    "\n",
    "The final phase will categorize the compositions into four distinct categories based on their properties. The categorization is based on whether a composition is allowed by the SMACT filter (smact_allowed) and whether it is present in the Materials Project database (mp). The categories are as follows:\n",
    "\n",
    "| smact_allowed | mp   | label      |\n",
    "|---------------|------|------------|\n",
    "| yes           | yes  | standard   |\n",
    "| yes           | no   | missing    |\n",
    "| no            | yes  | interesting|\n",
    "| no            | no   | unlikely   |"
   ]
  },
  {
   "cell_type": "markdown",
   "metadata": {},
   "source": [
    "## 2. Generating compositions\n",
    "\n",
    "First, we'll create binary chemical compositions using the SMACT filter. The SMACT filter is a smart tool that helps us select compositions based on important chemical rules, such as oxidation states and electronegativity.\n",
    "\n",
    "To generate these compositions, we'll use a function called [`generate_composition_with_smact`](../../smact/utils/crystal_space/generate_composition_with_smact.py). This function allows us to enumerate all possible binary compositions and filter them based on the SMACT rules. \n",
    "\n",
    "### Key parameters:\n",
    "- `num_elements`: Number of elements in the composition (e.g., 2 for binary).\n",
    "- `max_stoich`: The maximum ratio of each element (e.g., 8 could mean up to 8 atoms of each element).\n",
    "- `max_atomic_num`: Maximum atomic number for the elements considered\n",
    "- `num_processes`: Number of processes to run in parallel to speed up calculations.\n",
    "- `save_path`: Where to save the generated compositions."
   ]
  },
  {
   "cell_type": "markdown",
   "metadata": {},
   "source": [
    "[![Open in Colab](https://colab.research.google.com/assets/colab-badge.svg)](https://colab.research.google.com/github/WMD-group/SMACT/blob/master/docs/tutorials/crystal_space.ipynb)"
   ]
  },
  {
   "cell_type": "code",
   "execution_count": null,
   "metadata": {},
   "outputs": [],
   "source": [
    "# Install the required packages\n",
    "try:\n",
    "    import google.colab\n",
    "\n",
    "    IN_COLAB = True\n",
    "except:\n",
    "    IN_COLAB = False\n",
    "\n",
    "if IN_COLAB:\n",
    "    !pip install \"smact[crystal_space] @ git+https://github.com/WMD-group/SMACT.git@master\" --quiet"
   ]
  },
  {
   "cell_type": "code",
   "execution_count": null,
   "metadata": {},
   "outputs": [],
   "source": [
    "from smact.utils.crystal_space.generate_composition_with_smact import (\n",
    "    generate_composition_with_smact,\n",
    ")"
   ]
  },
  {
   "cell_type": "code",
   "execution_count": null,
   "metadata": {},
   "outputs": [
    {
     "name": "stdout",
     "output_type": "stream",
     "text": [
      "#1. Generating all possible combinations of elements...\n",
      "Number of generated combinations: 5253\n",
      "#2. Generating all possible stoichiometric combinations...\n"
     ]
    },
    {
     "name": "stderr",
     "output_type": "stream",
     "text": [
      "100%|██████████| 5253/5253 [00:05<00:00, 923.16it/s] \n"
     ]
    },
    {
     "name": "stdout",
     "output_type": "stream",
     "text": [
      "Number of generated compounds: 336192\n",
      "Number of generated compounds (unique): 225879\n",
      "#3. Filtering compounds with SMACT...\n"
     ]
    },
    {
     "name": "stderr",
     "output_type": "stream",
     "text": [
      "100%|██████████| 4656/4656 [00:02<00:00, 1856.51it/s]\n"
     ]
    },
    {
     "name": "stdout",
     "output_type": "stream",
     "text": [
      "#4. Making data frame of results...\n",
      "Number of compounds allowed by SMACT: 13464\n",
      "Saved to data/binary/df_binary_label.pkl\n"
     ]
    }
   ],
   "source": [
    "df_smact = generate_composition_with_smact(\n",
    "    num_elements=2,\n",
    "    max_stoich=8,\n",
    "    max_atomic_num=103,\n",
    "    num_processes=8,\n",
    "    save_path=\"data/binary/df_binary_label.pkl\",\n",
    "    oxidation_states_set=\"smact14\",\n",
    ")"
   ]
  },
  {
   "cell_type": "code",
   "execution_count": null,
   "metadata": {},
   "outputs": [
    {
     "data": {
      "text/html": [
       "<div>\n",
       "<style scoped>\n",
       "    .dataframe tbody tr th:only-of-type {\n",
       "        vertical-align: middle;\n",
       "    }\n",
       "\n",
       "    .dataframe tbody tr th {\n",
       "        vertical-align: top;\n",
       "    }\n",
       "\n",
       "    .dataframe thead th {\n",
       "        text-align: right;\n",
       "    }\n",
       "</style>\n",
       "<table border=\"1\" class=\"dataframe\">\n",
       "  <thead>\n",
       "    <tr style=\"text-align: right;\">\n",
       "      <th></th>\n",
       "      <th>smact_allowed</th>\n",
       "    </tr>\n",
       "  </thead>\n",
       "  <tbody>\n",
       "    <tr>\n",
       "      <th>Cr4C5</th>\n",
       "      <td>True</td>\n",
       "    </tr>\n",
       "    <tr>\n",
       "      <th>Bk3Bi8</th>\n",
       "      <td>False</td>\n",
       "    </tr>\n",
       "    <tr>\n",
       "      <th>Cf6F5</th>\n",
       "      <td>False</td>\n",
       "    </tr>\n",
       "    <tr>\n",
       "      <th>Hf5Pb4</th>\n",
       "      <td>False</td>\n",
       "    </tr>\n",
       "    <tr>\n",
       "      <th>CeHg2</th>\n",
       "      <td>False</td>\n",
       "    </tr>\n",
       "    <tr>\n",
       "      <th>...</th>\n",
       "      <td>...</td>\n",
       "    </tr>\n",
       "    <tr>\n",
       "      <th>Be4Xe3</th>\n",
       "      <td>False</td>\n",
       "    </tr>\n",
       "    <tr>\n",
       "      <th>NpSb5</th>\n",
       "      <td>False</td>\n",
       "    </tr>\n",
       "    <tr>\n",
       "      <th>Mn4Al</th>\n",
       "      <td>False</td>\n",
       "    </tr>\n",
       "    <tr>\n",
       "      <th>Th6Ti7</th>\n",
       "      <td>False</td>\n",
       "    </tr>\n",
       "    <tr>\n",
       "      <th>H7Rn</th>\n",
       "      <td>False</td>\n",
       "    </tr>\n",
       "  </tbody>\n",
       "</table>\n",
       "<p>225879 rows × 1 columns</p>\n",
       "</div>"
      ],
      "text/plain": [
       "        smact_allowed\n",
       "Cr4C5            True\n",
       "Bk3Bi8          False\n",
       "Cf6F5           False\n",
       "Hf5Pb4          False\n",
       "CeHg2           False\n",
       "...               ...\n",
       "Be4Xe3          False\n",
       "NpSb5           False\n",
       "Mn4Al           False\n",
       "Th6Ti7          False\n",
       "H7Rn            False\n",
       "\n",
       "[225879 rows x 1 columns]"
      ]
     },
     "execution_count": null,
     "metadata": {},
     "output_type": "execute_result"
    }
   ],
   "source": [
    "df_smact"
   ]
  },
  {
   "cell_type": "markdown",
   "metadata": {},
   "source": [
    "## 3. Download data from the Materials Project"
   ]
  },
  {
   "cell_type": "markdown",
   "metadata": {},
   "source": [
    "Next, we download data from the `Materials Project api` using the `download_mp_data` function. This function allows us to download data for a given number of elements and maximum stoichiometry. The data includes the chemical formula, energy, and other properties of the compounds.\n",
    "\n",
    "[`download_mp_data`](../../smact/utils/crystal_space/download_compounds_with_mp_api.py) function takes in the following parameters:\n",
    "\n",
    "### Key parameters:\n",
    "- `mp_api_key`: your Materials Project API key\n",
    "- `num_elements`: Number of elements in the composition (e.g., 2 for binary).\n",
    "- `max_stoich`: The maximum ratio of each element (e.g., 8 could mean up to 8 atoms of each element).\n",
    "- `save_dir`: Where to save the downloaded data"
   ]
  },
  {
   "cell_type": "code",
   "execution_count": null,
   "metadata": {},
   "outputs": [],
   "source": [
    "mp_api_key = \"\"  # Add your Materials Project API key here"
   ]
  },
  {
   "cell_type": "code",
   "execution_count": null,
   "metadata": {},
   "outputs": [],
   "source": [
    "save_mp_dir = \"data/binary/mp_data\""
   ]
  },
  {
   "cell_type": "code",
   "execution_count": null,
   "metadata": {},
   "outputs": [
    {
     "name": "stderr",
     "output_type": "stream",
     "text": [
      "  0%|          | 0/22 [00:00<?, ?it/s]"
     ]
    },
    {
     "name": "stdout",
     "output_type": "stream",
     "text": [
      "Downloading data for A2B3...\n"
     ]
    },
    {
     "name": "stderr",
     "output_type": "stream",
     "text": [
      "Retrieving SummaryDoc documents: 100%|██████████| 1190/1190 [00:01<00:00, 854.30it/s]\n",
      "  5%|▍         | 1/22 [00:11<03:52, 11.07s/it]"
     ]
    },
    {
     "name": "stdout",
     "output_type": "stream",
     "text": [
      "Downloading data for A2B5...\n"
     ]
    },
    {
     "name": "stderr",
     "output_type": "stream",
     "text": [
      "Retrieving SummaryDoc documents: 100%|██████████| 308/308 [00:00<00:00, 1256659.18it/s]\n",
      "  9%|▉         | 2/22 [00:14<02:15,  6.79s/it]"
     ]
    },
    {
     "name": "stdout",
     "output_type": "stream",
     "text": [
      "Downloading data for A2B7...\n"
     ]
    },
    {
     "name": "stderr",
     "output_type": "stream",
     "text": [
      "Retrieving SummaryDoc documents: 100%|██████████| 98/98 [00:00<00:00, 403377.62it/s]\n",
      " 14%|█▎        | 3/22 [00:17<01:32,  4.84s/it]"
     ]
    },
    {
     "name": "stdout",
     "output_type": "stream",
     "text": [
      "Downloading data for A3B4...\n"
     ]
    },
    {
     "name": "stderr",
     "output_type": "stream",
     "text": [
      "Retrieving SummaryDoc documents: 100%|██████████| 616/616 [00:00<00:00, 2350947.46it/s]\n",
      " 18%|█▊        | 4/22 [00:21<01:24,  4.71s/it]"
     ]
    },
    {
     "name": "stdout",
     "output_type": "stream",
     "text": [
      "Downloading data for A3B5...\n"
     ]
    },
    {
     "name": "stderr",
     "output_type": "stream",
     "text": [
      "Retrieving SummaryDoc documents: 100%|██████████| 486/486 [00:00<00:00, 54624.75it/s]\n",
      " 23%|██▎       | 5/22 [00:27<01:23,  4.93s/it]"
     ]
    },
    {
     "name": "stdout",
     "output_type": "stream",
     "text": [
      "Downloading data for A3B7...\n"
     ]
    },
    {
     "name": "stderr",
     "output_type": "stream",
     "text": [
      "Retrieving SummaryDoc documents: 100%|██████████| 132/132 [00:00<00:00, 527786.59it/s]\n",
      " 27%|██▋       | 6/22 [00:30<01:09,  4.33s/it]"
     ]
    },
    {
     "name": "stdout",
     "output_type": "stream",
     "text": [
      "Downloading data for A3B8...\n"
     ]
    },
    {
     "name": "stderr",
     "output_type": "stream",
     "text": [
      "Retrieving SummaryDoc documents: 100%|██████████| 93/93 [00:00<00:00, 302849.59it/s]\n",
      " 32%|███▏      | 7/22 [00:32<00:54,  3.63s/it]"
     ]
    },
    {
     "name": "stdout",
     "output_type": "stream",
     "text": [
      "Downloading data for A4B5...\n"
     ]
    },
    {
     "name": "stderr",
     "output_type": "stream",
     "text": [
      "Retrieving SummaryDoc documents: 100%|██████████| 175/175 [00:00<00:00, 1073104.09it/s]\n",
      " 36%|███▋      | 8/22 [00:35<00:49,  3.52s/it]"
     ]
    },
    {
     "name": "stdout",
     "output_type": "stream",
     "text": [
      "Downloading data for A4B7...\n"
     ]
    },
    {
     "name": "stderr",
     "output_type": "stream",
     "text": [
      "Retrieving SummaryDoc documents: 100%|██████████| 151/151 [00:00<00:00, 642332.56it/s]\n",
      " 41%|████      | 9/22 [00:39<00:45,  3.48s/it]"
     ]
    },
    {
     "name": "stdout",
     "output_type": "stream",
     "text": [
      "Downloading data for A5B6...\n"
     ]
    },
    {
     "name": "stderr",
     "output_type": "stream",
     "text": [
      "Retrieving SummaryDoc documents: 100%|██████████| 136/136 [00:00<00:00, 363559.81it/s]\n",
      " 45%|████▌     | 10/22 [00:41<00:37,  3.12s/it]"
     ]
    },
    {
     "name": "stdout",
     "output_type": "stream",
     "text": [
      "Downloading data for A5B7...\n"
     ]
    },
    {
     "name": "stderr",
     "output_type": "stream",
     "text": [
      "Retrieving SummaryDoc documents: 100%|██████████| 31/31 [00:00<00:00, 70626.52it/s]\n",
      " 50%|█████     | 11/22 [00:43<00:30,  2.81s/it]"
     ]
    },
    {
     "name": "stdout",
     "output_type": "stream",
     "text": [
      "Downloading data for A5B8...\n"
     ]
    },
    {
     "name": "stderr",
     "output_type": "stream",
     "text": [
      "Retrieving SummaryDoc documents: 100%|██████████| 71/71 [00:00<00:00, 300803.62it/s]\n",
      " 55%|█████▍    | 12/22 [00:45<00:26,  2.60s/it]"
     ]
    },
    {
     "name": "stdout",
     "output_type": "stream",
     "text": [
      "Downloading data for A6B7...\n"
     ]
    },
    {
     "name": "stderr",
     "output_type": "stream",
     "text": [
      "Retrieving SummaryDoc documents: 100%|██████████| 43/43 [00:00<00:00, 282688.20it/s]\n",
      " 59%|█████▉    | 13/22 [00:47<00:22,  2.45s/it]"
     ]
    },
    {
     "name": "stdout",
     "output_type": "stream",
     "text": [
      "Downloading data for A7B8...\n"
     ]
    },
    {
     "name": "stderr",
     "output_type": "stream",
     "text": [
      "Retrieving SummaryDoc documents: 100%|██████████| 30/30 [00:00<00:00, 89813.79it/s]\n",
      " 64%|██████▎   | 14/22 [00:50<00:18,  2.37s/it]"
     ]
    },
    {
     "name": "stdout",
     "output_type": "stream",
     "text": [
      "Downloading data for AB...\n"
     ]
    },
    {
     "name": "stderr",
     "output_type": "stream",
     "text": [
      "Retrieving SummaryDoc documents: 100%|██████████| 3634/3634 [00:04<00:00, 895.90it/s]\n",
      " 68%|██████▊   | 15/22 [01:03<00:39,  5.64s/it]"
     ]
    },
    {
     "name": "stdout",
     "output_type": "stream",
     "text": [
      "Downloading data for AB2...\n"
     ]
    },
    {
     "name": "stderr",
     "output_type": "stream",
     "text": [
      "Retrieving SummaryDoc documents: 100%|██████████| 4753/4753 [00:07<00:00, 644.81it/s]\n",
      " 73%|███████▎  | 16/22 [01:21<00:55,  9.30s/it]"
     ]
    },
    {
     "name": "stdout",
     "output_type": "stream",
     "text": [
      "Downloading data for AB3...\n"
     ]
    },
    {
     "name": "stderr",
     "output_type": "stream",
     "text": [
      "Retrieving SummaryDoc documents: 100%|██████████| 5628/5628 [00:05<00:00, 1088.41it/s]\n",
      " 77%|███████▋  | 17/22 [01:43<01:05, 13.12s/it]"
     ]
    },
    {
     "name": "stdout",
     "output_type": "stream",
     "text": [
      "Downloading data for AB4...\n"
     ]
    },
    {
     "name": "stderr",
     "output_type": "stream",
     "text": [
      "Retrieving SummaryDoc documents: 100%|██████████| 686/686 [00:00<00:00, 1829175.17it/s]\n",
      " 82%|████████▏ | 18/22 [01:48<00:43, 10.78s/it]"
     ]
    },
    {
     "name": "stdout",
     "output_type": "stream",
     "text": [
      "Downloading data for AB5...\n"
     ]
    },
    {
     "name": "stderr",
     "output_type": "stream",
     "text": [
      "Retrieving SummaryDoc documents: 100%|██████████| 544/544 [00:00<00:00, 1890390.54it/s]\n",
      " 86%|████████▋ | 19/22 [01:52<00:26,  8.74s/it]"
     ]
    },
    {
     "name": "stdout",
     "output_type": "stream",
     "text": [
      "Downloading data for AB6...\n"
     ]
    },
    {
     "name": "stderr",
     "output_type": "stream",
     "text": [
      "Retrieving SummaryDoc documents: 100%|██████████| 221/221 [00:00<00:00, 795657.67it/s]\n",
      " 91%|█████████ | 20/22 [01:55<00:14,  7.04s/it]"
     ]
    },
    {
     "name": "stdout",
     "output_type": "stream",
     "text": [
      "Downloading data for AB7...\n"
     ]
    },
    {
     "name": "stderr",
     "output_type": "stream",
     "text": [
      "Retrieving SummaryDoc documents: 100%|██████████| 85/85 [00:00<00:00, 303676.18it/s]\n",
      " 95%|█████████▌| 21/22 [01:57<00:05,  5.54s/it]"
     ]
    },
    {
     "name": "stdout",
     "output_type": "stream",
     "text": [
      "Downloading data for AB8...\n"
     ]
    },
    {
     "name": "stderr",
     "output_type": "stream",
     "text": [
      "Retrieving SummaryDoc documents: 100%|██████████| 37/37 [00:00<00:00, 125863.14it/s]\n",
      "100%|██████████| 22/22 [01:59<00:00,  5.42s/it]\n"
     ]
    }
   ],
   "source": [
    "from smact.utils.crystal_space.download_compounds_with_mp_api import download_mp_data\n",
    "\n",
    "# download data from MP for binary compounds\n",
    "docs = download_mp_data(\n",
    "    mp_api_key=mp_api_key,\n",
    "    num_elements=2,\n",
    "    max_stoich=8,\n",
    "    save_dir=save_mp_dir,\n",
    ")"
   ]
  },
  {
   "cell_type": "markdown",
   "metadata": {},
   "source": [
    "## 4. Categorise compositions"
   ]
  },
  {
   "cell_type": "markdown",
   "metadata": {},
   "source": [
    "Finally, we categorize the compositions into four labels: standard, missing, interesting, and unlikely."
   ]
  },
  {
   "cell_type": "code",
   "execution_count": null,
   "metadata": {},
   "outputs": [],
   "source": [
    "from pathlib import Path\n",
    "import pandas as pd"
   ]
  },
  {
   "cell_type": "code",
   "execution_count": null,
   "metadata": {},
   "outputs": [],
   "source": [
    "mp_data = {p.stem: True for p in Path(save_mp_dir).glob(\"*.json\")}\n",
    "df_mp = pd.DataFrame.from_dict(mp_data, orient=\"index\", columns=[\"mp\"])"
   ]
  },
  {
   "cell_type": "code",
   "execution_count": null,
   "metadata": {},
   "outputs": [
    {
     "name": "stderr",
     "output_type": "stream",
     "text": [
      "/var/folders/gb/3q75byln3gz8710dqhxnnyr80000gp/T/ipykernel_38537/2875216502.py:4: FutureWarning: Downcasting object dtype arrays on .fillna, .ffill, .bfill is deprecated and will change in a future version. Call result.infer_objects(copy=False) instead. To opt-in to the future behavior, set `pd.set_option('future.no_silent_downcasting', True)`\n",
      "  df_category = df_smact.join(df_mp, how=\"left\").fillna(False)\n"
     ]
    },
    {
     "data": {
      "text/html": [
       "<div>\n",
       "<style scoped>\n",
       "    .dataframe tbody tr th:only-of-type {\n",
       "        vertical-align: middle;\n",
       "    }\n",
       "\n",
       "    .dataframe tbody tr th {\n",
       "        vertical-align: top;\n",
       "    }\n",
       "\n",
       "    .dataframe thead th {\n",
       "        text-align: right;\n",
       "    }\n",
       "</style>\n",
       "<table border=\"1\" class=\"dataframe\">\n",
       "  <thead>\n",
       "    <tr style=\"text-align: right;\">\n",
       "      <th></th>\n",
       "      <th>smact_allowed</th>\n",
       "      <th>mp</th>\n",
       "    </tr>\n",
       "  </thead>\n",
       "  <tbody>\n",
       "    <tr>\n",
       "      <th>Cr4C5</th>\n",
       "      <td>True</td>\n",
       "      <td>False</td>\n",
       "    </tr>\n",
       "    <tr>\n",
       "      <th>Bk3Bi8</th>\n",
       "      <td>False</td>\n",
       "      <td>False</td>\n",
       "    </tr>\n",
       "    <tr>\n",
       "      <th>Cf6F5</th>\n",
       "      <td>False</td>\n",
       "      <td>False</td>\n",
       "    </tr>\n",
       "    <tr>\n",
       "      <th>Hf5Pb4</th>\n",
       "      <td>False</td>\n",
       "      <td>False</td>\n",
       "    </tr>\n",
       "    <tr>\n",
       "      <th>CeHg2</th>\n",
       "      <td>False</td>\n",
       "      <td>True</td>\n",
       "    </tr>\n",
       "    <tr>\n",
       "      <th>...</th>\n",
       "      <td>...</td>\n",
       "      <td>...</td>\n",
       "    </tr>\n",
       "    <tr>\n",
       "      <th>Be4Xe3</th>\n",
       "      <td>False</td>\n",
       "      <td>False</td>\n",
       "    </tr>\n",
       "    <tr>\n",
       "      <th>NpSb5</th>\n",
       "      <td>False</td>\n",
       "      <td>False</td>\n",
       "    </tr>\n",
       "    <tr>\n",
       "      <th>Mn4Al</th>\n",
       "      <td>False</td>\n",
       "      <td>False</td>\n",
       "    </tr>\n",
       "    <tr>\n",
       "      <th>Th6Ti7</th>\n",
       "      <td>False</td>\n",
       "      <td>False</td>\n",
       "    </tr>\n",
       "    <tr>\n",
       "      <th>H7Rn</th>\n",
       "      <td>False</td>\n",
       "      <td>False</td>\n",
       "    </tr>\n",
       "  </tbody>\n",
       "</table>\n",
       "<p>225879 rows × 2 columns</p>\n",
       "</div>"
      ],
      "text/plain": [
       "        smact_allowed     mp\n",
       "Cr4C5            True  False\n",
       "Bk3Bi8          False  False\n",
       "Cf6F5           False  False\n",
       "Hf5Pb4          False  False\n",
       "CeHg2           False   True\n",
       "...               ...    ...\n",
       "Be4Xe3          False  False\n",
       "NpSb5           False  False\n",
       "Mn4Al           False  False\n",
       "Th6Ti7          False  False\n",
       "H7Rn            False  False\n",
       "\n",
       "[225879 rows x 2 columns]"
      ]
     },
     "metadata": {},
     "output_type": "display_data"
    },
    {
     "name": "stdout",
     "output_type": "stream",
     "text": [
      "label\n",
      "unlikely       205910\n",
      "missing          9789\n",
      "interesting      6505\n",
      "standard         3675\n",
      "Name: count, dtype: int64\n"
     ]
    },
    {
     "data": {
      "text/html": [
       "<div>\n",
       "<style scoped>\n",
       "    .dataframe tbody tr th:only-of-type {\n",
       "        vertical-align: middle;\n",
       "    }\n",
       "\n",
       "    .dataframe tbody tr th {\n",
       "        vertical-align: top;\n",
       "    }\n",
       "\n",
       "    .dataframe thead th {\n",
       "        text-align: right;\n",
       "    }\n",
       "</style>\n",
       "<table border=\"1\" class=\"dataframe\">\n",
       "  <thead>\n",
       "    <tr style=\"text-align: right;\">\n",
       "      <th></th>\n",
       "      <th>smact_allowed</th>\n",
       "      <th>mp</th>\n",
       "      <th>label</th>\n",
       "    </tr>\n",
       "  </thead>\n",
       "  <tbody>\n",
       "    <tr>\n",
       "      <th>Cr4C5</th>\n",
       "      <td>True</td>\n",
       "      <td>False</td>\n",
       "      <td>missing</td>\n",
       "    </tr>\n",
       "    <tr>\n",
       "      <th>Bk3Bi8</th>\n",
       "      <td>False</td>\n",
       "      <td>False</td>\n",
       "      <td>unlikely</td>\n",
       "    </tr>\n",
       "    <tr>\n",
       "      <th>Cf6F5</th>\n",
       "      <td>False</td>\n",
       "      <td>False</td>\n",
       "      <td>unlikely</td>\n",
       "    </tr>\n",
       "    <tr>\n",
       "      <th>Hf5Pb4</th>\n",
       "      <td>False</td>\n",
       "      <td>False</td>\n",
       "      <td>unlikely</td>\n",
       "    </tr>\n",
       "    <tr>\n",
       "      <th>CeHg2</th>\n",
       "      <td>False</td>\n",
       "      <td>True</td>\n",
       "      <td>interesting</td>\n",
       "    </tr>\n",
       "    <tr>\n",
       "      <th>...</th>\n",
       "      <td>...</td>\n",
       "      <td>...</td>\n",
       "      <td>...</td>\n",
       "    </tr>\n",
       "    <tr>\n",
       "      <th>Be4Xe3</th>\n",
       "      <td>False</td>\n",
       "      <td>False</td>\n",
       "      <td>unlikely</td>\n",
       "    </tr>\n",
       "    <tr>\n",
       "      <th>NpSb5</th>\n",
       "      <td>False</td>\n",
       "      <td>False</td>\n",
       "      <td>unlikely</td>\n",
       "    </tr>\n",
       "    <tr>\n",
       "      <th>Mn4Al</th>\n",
       "      <td>False</td>\n",
       "      <td>False</td>\n",
       "      <td>unlikely</td>\n",
       "    </tr>\n",
       "    <tr>\n",
       "      <th>Th6Ti7</th>\n",
       "      <td>False</td>\n",
       "      <td>False</td>\n",
       "      <td>unlikely</td>\n",
       "    </tr>\n",
       "    <tr>\n",
       "      <th>H7Rn</th>\n",
       "      <td>False</td>\n",
       "      <td>False</td>\n",
       "      <td>unlikely</td>\n",
       "    </tr>\n",
       "  </tbody>\n",
       "</table>\n",
       "<p>225879 rows × 3 columns</p>\n",
       "</div>"
      ],
      "text/plain": [
       "        smact_allowed     mp        label\n",
       "Cr4C5            True  False      missing\n",
       "Bk3Bi8          False  False     unlikely\n",
       "Cf6F5           False  False     unlikely\n",
       "Hf5Pb4          False  False     unlikely\n",
       "CeHg2           False   True  interesting\n",
       "...               ...    ...          ...\n",
       "Be4Xe3          False  False     unlikely\n",
       "NpSb5           False  False     unlikely\n",
       "Mn4Al           False  False     unlikely\n",
       "Th6Ti7          False  False     unlikely\n",
       "H7Rn            False  False     unlikely\n",
       "\n",
       "[225879 rows x 3 columns]"
      ]
     },
     "metadata": {},
     "output_type": "display_data"
    },
    {
     "name": "stdout",
     "output_type": "stream",
     "text": [
      "label\n",
      "unlikely       205910\n",
      "missing          9789\n",
      "interesting      6505\n",
      "standard         3675\n",
      "Name: count, dtype: int64\n"
     ]
    },
    {
     "data": {
      "text/html": [
       "<div>\n",
       "<style scoped>\n",
       "    .dataframe tbody tr th:only-of-type {\n",
       "        vertical-align: middle;\n",
       "    }\n",
       "\n",
       "    .dataframe tbody tr th {\n",
       "        vertical-align: top;\n",
       "    }\n",
       "\n",
       "    .dataframe thead th {\n",
       "        text-align: right;\n",
       "    }\n",
       "</style>\n",
       "<table border=\"1\" class=\"dataframe\">\n",
       "  <thead>\n",
       "    <tr style=\"text-align: right;\">\n",
       "      <th></th>\n",
       "      <th>smact_allowed</th>\n",
       "      <th>mp</th>\n",
       "      <th>label</th>\n",
       "    </tr>\n",
       "  </thead>\n",
       "  <tbody>\n",
       "    <tr>\n",
       "      <th>Cr4C5</th>\n",
       "      <td>True</td>\n",
       "      <td>False</td>\n",
       "      <td>missing</td>\n",
       "    </tr>\n",
       "    <tr>\n",
       "      <th>Bk3Bi8</th>\n",
       "      <td>False</td>\n",
       "      <td>False</td>\n",
       "      <td>unlikely</td>\n",
       "    </tr>\n",
       "    <tr>\n",
       "      <th>Cf6F5</th>\n",
       "      <td>False</td>\n",
       "      <td>False</td>\n",
       "      <td>unlikely</td>\n",
       "    </tr>\n",
       "    <tr>\n",
       "      <th>Hf5Pb4</th>\n",
       "      <td>False</td>\n",
       "      <td>False</td>\n",
       "      <td>unlikely</td>\n",
       "    </tr>\n",
       "    <tr>\n",
       "      <th>CeHg2</th>\n",
       "      <td>False</td>\n",
       "      <td>True</td>\n",
       "      <td>interesting</td>\n",
       "    </tr>\n",
       "  </tbody>\n",
       "</table>\n",
       "</div>"
      ],
      "text/plain": [
       "        smact_allowed     mp        label\n",
       "Cr4C5            True  False      missing\n",
       "Bk3Bi8          False  False     unlikely\n",
       "Cf6F5           False  False     unlikely\n",
       "Hf5Pb4          False  False     unlikely\n",
       "CeHg2           False   True  interesting"
      ]
     },
     "execution_count": null,
     "metadata": {},
     "output_type": "execute_result"
    }
   ],
   "source": [
    "# make category dataframe\n",
    "df_category = df_smact.join(df_mp, how=\"left\").fillna(False)\n",
    "\n",
    "# make label for each category\n",
    "dict_label = {\n",
    "    (True, True): \"standard\",\n",
    "    (True, False): \"missing\",\n",
    "    (False, True): \"interesting\",\n",
    "    (False, False): \"unlikely\",\n",
    "}\n",
    "df_category[\"label\"] = df_category.apply(\n",
    "    lambda x: dict_label[(x[\"smact_allowed\"], x[\"mp\"])], axis=1\n",
    ")\n",
    "\n",
    "# count number of each label\n",
    "print(df_category[\"label\"].value_counts())\n",
    "\n",
    "# save dataframe\n",
    "df_category.to_pickle(\"data/binary/df_binary_category.pkl\")\n",
    "\n",
    "# show df_category\n",
    "df_category.head()"
   ]
  },
  {
   "cell_type": "markdown",
   "metadata": {},
   "source": [
    "# Next steps\n",
    "\n",
    "move to [`crystal_space_visualisation.ipynb`](crystal_space_visualisation.ipynb) to visualize the data and explore the chemical space."
   ]
  }
 ],
 "metadata": {
  "kernelspec": {
   "display_name": "smact_dev",
   "language": "python",
   "name": "python3"
  },
  "language_info": {
   "codemirror_mode": {
    "name": "ipython",
    "version": 3
   },
   "file_extension": ".py",
   "mimetype": "text/x-python",
   "name": "python",
   "nbconvert_exporter": "python",
   "pygments_lexer": "ipython3",
   "version": "3.10.16"
  }
 },
 "nbformat": 4,
 "nbformat_minor": 4
}
