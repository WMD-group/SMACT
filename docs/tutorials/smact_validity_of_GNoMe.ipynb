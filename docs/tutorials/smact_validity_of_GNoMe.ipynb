{
 "cells": [
  {
   "cell_type": "markdown",
   "id": "0",
   "metadata": {},
   "source": [
    "# Testing charge-neutrality of the compositions in the GNoME database\n",
    "\n",
    " In this notebook, we will check the charge-neutrality of the compositions in the GNoME database (https://www.nature.com/articles/s41586-023-06735-9).\n",
    " \n",
    "[![Open in Colab](https://colab.research.google.com/assets/colab-badge.svg)](https://colab.research.google.com/github/WMD-group/SMACT/blob/master/docs/tutorials/smact_validity_of_GNoMe.ipynb)"
   ]
  },
  {
   "cell_type": "code",
   "execution_count": null,
   "id": "1",
   "metadata": {
    "jupyter": {
     "outputs_hidden": false
    }
   },
   "outputs": [
    {
     "name": "stdout",
     "output_type": "stream",
     "text": [
      "\n",
      "\u001b[1m[\u001b[0m\u001b[34;49mnotice\u001b[0m\u001b[1;39;49m]\u001b[0m\u001b[39;49m A new release of pip is available: \u001b[0m\u001b[31;49m24.2\u001b[0m\u001b[39;49m -> \u001b[0m\u001b[32;49m24.3.1\u001b[0m\n",
      "\u001b[1m[\u001b[0m\u001b[34;49mnotice\u001b[0m\u001b[1;39;49m]\u001b[0m\u001b[39;49m To update, run: \u001b[0m\u001b[32;49mpip install --upgrade pip\u001b[0m\n"
     ]
    }
   ],
   "source": [
    "# Install the required packages\n",
    "try:\n",
    "    import google.colab\n",
    "\n",
    "    IN_COLAB = True\n",
    "except:\n",
    "    IN_COLAB = False\n",
    "\n",
    "if IN_COLAB:\n",
    "    !pip install git+https://github.com/WMD-group/SMACT.git --quiet\n",
    "!pip install pandarallel --quiet # Required for parallel processing"
   ]
  },
  {
   "cell_type": "code",
   "execution_count": null,
   "id": "2",
   "metadata": {
    "jupyter": {
     "outputs_hidden": false
    }
   },
   "outputs": [
    {
     "name": "stdout",
     "output_type": "stream",
     "text": [
      "INFO: Pandarallel will run on 12 workers.\n",
      "INFO: Pandarallel will use standard multiprocessing data transfer (pipe) to transfer data between the main process and workers.\n"
     ]
    }
   ],
   "source": [
    "# Imports\n",
    "from smact.screening import smact_validity\n",
    "import matplotlib.pyplot as plt\n",
    "import pandas as pd\n",
    "from pandarallel import pandarallel\n",
    "\n",
    "\n",
    "def initialize_parallel_processing():\n",
    "    \"\"\"\n",
    "    Initialize parallel processing using pandarallel.\n",
    "\n",
    "    This function sets up pandarallel for parallel processing of pandas operations,\n",
    "    enabling a progress bar for better visibility of the computation progress.\n",
    "    \"\"\"\n",
    "    pandarallel.initialize(progress_bar=True)\n",
    "\n",
    "\n",
    "# Set up parallel processing\n",
    "initialize_parallel_processing()\n",
    "\n",
    "# The imported modules and functions are used as follows:\n",
    "# - smact_validity: To check the charge neutrality of compositions\n",
    "# - matplotlib.pyplot: For creating plots and visualizations\n",
    "# - pandas: For data manipulation and analysis\n",
    "# - pandarallel: To enable parallel processing of pandas operations"
   ]
  },
  {
   "cell_type": "code",
   "execution_count": null,
   "id": "3",
   "metadata": {
    "jupyter": {
     "outputs_hidden": false
    }
   },
   "outputs": [
    {
     "name": "stdout",
     "output_type": "stream",
     "text": [
      "<class 'pandas.core.frame.DataFrame'>\n",
      "RangeIndex: 384871 entries, 0 to 384870\n",
      "Data columns (total 4 columns):\n",
      " #   Column                     Non-Null Count   Dtype  \n",
      "---  ------                     --------------   -----  \n",
      " 0   Unnamed: 0                 384871 non-null  int64  \n",
      " 1   Composition                384871 non-null  object \n",
      " 2   Formation Energy Per Atom  384871 non-null  float64\n",
      " 3   Corrected Energy           384871 non-null  float64\n",
      "dtypes: float64(2), int64(1), object(1)\n",
      "memory usage: 11.7+ MB\n",
      "None\n"
     ]
    },
    {
     "data": {
      "text/html": [
       "<div>\n",
       "<style scoped>\n",
       "    .dataframe tbody tr th:only-of-type {\n",
       "        vertical-align: middle;\n",
       "    }\n",
       "\n",
       "    .dataframe tbody tr th {\n",
       "        vertical-align: top;\n",
       "    }\n",
       "\n",
       "    .dataframe thead th {\n",
       "        text-align: right;\n",
       "    }\n",
       "</style>\n",
       "<table border=\"1\" class=\"dataframe\">\n",
       "  <thead>\n",
       "    <tr style=\"text-align: right;\">\n",
       "      <th></th>\n",
       "      <th>Unnamed: 0</th>\n",
       "      <th>Composition</th>\n",
       "      <th>Formation Energy Per Atom</th>\n",
       "      <th>Corrected Energy</th>\n",
       "    </tr>\n",
       "  </thead>\n",
       "  <tbody>\n",
       "    <tr>\n",
       "      <th>0</th>\n",
       "      <td>0</td>\n",
       "      <td>Cs1S6Zr3</td>\n",
       "      <td>-1.9058</td>\n",
       "      <td>-70.4155</td>\n",
       "    </tr>\n",
       "    <tr>\n",
       "      <th>1</th>\n",
       "      <td>1</td>\n",
       "      <td>Nd7Os1Pr3Si5</td>\n",
       "      <td>-0.5004</td>\n",
       "      <td>-94.0804</td>\n",
       "    </tr>\n",
       "    <tr>\n",
       "      <th>2</th>\n",
       "      <td>2</td>\n",
       "      <td>Ce2La3Pt16Tm15</td>\n",
       "      <td>-1.2960</td>\n",
       "      <td>-237.6016</td>\n",
       "    </tr>\n",
       "    <tr>\n",
       "      <th>3</th>\n",
       "      <td>3</td>\n",
       "      <td>Mn1Ni1Os2Sb12Yb1</td>\n",
       "      <td>-0.3064</td>\n",
       "      <td>-93.6931</td>\n",
       "    </tr>\n",
       "    <tr>\n",
       "      <th>4</th>\n",
       "      <td>4</td>\n",
       "      <td>Er8Ge4Si12Zr12</td>\n",
       "      <td>-0.8718</td>\n",
       "      <td>-254.0953</td>\n",
       "    </tr>\n",
       "  </tbody>\n",
       "</table>\n",
       "</div>"
      ],
      "text/plain": [
       "   Unnamed: 0       Composition  Formation Energy Per Atom  Corrected Energy\n",
       "0           0          Cs1S6Zr3                    -1.9058          -70.4155\n",
       "1           1      Nd7Os1Pr3Si5                    -0.5004          -94.0804\n",
       "2           2    Ce2La3Pt16Tm15                    -1.2960         -237.6016\n",
       "3           3  Mn1Ni1Os2Sb12Yb1                    -0.3064          -93.6931\n",
       "4           4    Er8Ge4Si12Zr12                    -0.8718         -254.0953"
      ]
     },
     "execution_count": null,
     "metadata": {},
     "output_type": "execute_result"
    }
   ],
   "source": [
    "# Load the data\n",
    "# Load the data into a dataframe\n",
    "\n",
    "data_path = (\n",
    "    \"https://raw.githubusercontent.com/WMD-group/SMACT/refs/heads/master/docs/tutorials/stable_materials_hull.csv\"\n",
    ")\n",
    "df = pd.read_csv(data_path)\n",
    "\n",
    "# Get quick info about the data\n",
    "print(df.info())\n",
    "\n",
    "# Show first five entries\n",
    "df.head()"
   ]
  },
  {
   "cell_type": "markdown",
   "id": "4",
   "metadata": {},
   "source": [
    "`smact_validity` uses the python package `SMACT` to test for charge neutrality, but it is a rather simple function which cannot account for elements with mixed valency in a compound. The working principle behind this function is to systematically trial all the possible oxidation states of the elements in a given material and return True if a charge-balanced set of oxidation states can be found."
   ]
  },
  {
   "cell_type": "code",
   "execution_count": null,
   "id": "5",
   "metadata": {
    "jupyter": {
     "outputs_hidden": false
    }
   },
   "outputs": [
    {
     "data": {
      "application/vnd.jupyter.widget-view+json": {
       "model_id": "15bda5d7186b4c3aaf19ea3fa7e51d7e",
       "version_major": 2,
       "version_minor": 0
      },
      "text/plain": [
       "VBox(children=(HBox(children=(IntProgress(value=0, description='0.00%', max=32073), Label(value='0 / 32073')))…"
      ]
     },
     "metadata": {},
     "output_type": "display_data"
    },
    {
     "data": {
      "text/html": [
       "<div>\n",
       "<style scoped>\n",
       "    .dataframe tbody tr th:only-of-type {\n",
       "        vertical-align: middle;\n",
       "    }\n",
       "\n",
       "    .dataframe tbody tr th {\n",
       "        vertical-align: top;\n",
       "    }\n",
       "\n",
       "    .dataframe thead th {\n",
       "        text-align: right;\n",
       "    }\n",
       "</style>\n",
       "<table border=\"1\" class=\"dataframe\">\n",
       "  <thead>\n",
       "    <tr style=\"text-align: right;\">\n",
       "      <th></th>\n",
       "      <th>Unnamed: 0</th>\n",
       "      <th>Composition</th>\n",
       "      <th>Formation Energy Per Atom</th>\n",
       "      <th>Corrected Energy</th>\n",
       "      <th>smact_valid</th>\n",
       "    </tr>\n",
       "  </thead>\n",
       "  <tbody>\n",
       "    <tr>\n",
       "      <th>0</th>\n",
       "      <td>0</td>\n",
       "      <td>Cs1S6Zr3</td>\n",
       "      <td>-1.9058</td>\n",
       "      <td>-70.4155</td>\n",
       "      <td>False</td>\n",
       "    </tr>\n",
       "    <tr>\n",
       "      <th>1</th>\n",
       "      <td>1</td>\n",
       "      <td>Nd7Os1Pr3Si5</td>\n",
       "      <td>-0.5004</td>\n",
       "      <td>-94.0804</td>\n",
       "      <td>False</td>\n",
       "    </tr>\n",
       "    <tr>\n",
       "      <th>2</th>\n",
       "      <td>2</td>\n",
       "      <td>Ce2La3Pt16Tm15</td>\n",
       "      <td>-1.2960</td>\n",
       "      <td>-237.6016</td>\n",
       "      <td>True</td>\n",
       "    </tr>\n",
       "    <tr>\n",
       "      <th>3</th>\n",
       "      <td>3</td>\n",
       "      <td>Mn1Ni1Os2Sb12Yb1</td>\n",
       "      <td>-0.3064</td>\n",
       "      <td>-93.6931</td>\n",
       "      <td>True</td>\n",
       "    </tr>\n",
       "    <tr>\n",
       "      <th>4</th>\n",
       "      <td>4</td>\n",
       "      <td>Er8Ge4Si12Zr12</td>\n",
       "      <td>-0.8718</td>\n",
       "      <td>-254.0953</td>\n",
       "      <td>True</td>\n",
       "    </tr>\n",
       "  </tbody>\n",
       "</table>\n",
       "</div>"
      ],
      "text/plain": [
       "   Unnamed: 0       Composition  Formation Energy Per Atom  Corrected Energy  \\\n",
       "0           0          Cs1S6Zr3                    -1.9058          -70.4155   \n",
       "1           1      Nd7Os1Pr3Si5                    -0.5004          -94.0804   \n",
       "2           2    Ce2La3Pt16Tm15                    -1.2960         -237.6016   \n",
       "3           3  Mn1Ni1Os2Sb12Yb1                    -0.3064          -93.6931   \n",
       "4           4    Er8Ge4Si12Zr12                    -0.8718         -254.0953   \n",
       "\n",
       "   smact_valid  \n",
       "0        False  \n",
       "1        False  \n",
       "2         True  \n",
       "3         True  \n",
       "4         True  "
      ]
     },
     "execution_count": null,
     "metadata": {},
     "output_type": "execute_result"
    }
   ],
   "source": [
    "# Run the SMACT validity test on the GNoME materials\n",
    "df[\"smact_valid\"] = df[\"Composition\"].parallel_apply(\n",
    "    smact_validity, **{\"oxidation_states_set\": \"smact14\"}\n",
    ")  # Alloys will pass the test\n",
    "df.head()"
   ]
  },
  {
   "cell_type": "markdown",
   "id": "6",
   "metadata": {},
   "source": [
    "## Plotting the results\n",
    "\n",
    "Let's plot the number of materials that pass the SMACT validity test and the total number of materials in the GNoME database."
   ]
  },
  {
   "cell_type": "code",
   "execution_count": null,
   "id": "7",
   "metadata": {
    "jupyter": {
     "outputs_hidden": false
    }
   },
   "outputs": [
    {
     "data": {
      "image/png": "[encoded data removed]",
      "text/plain": [
       "<Figure size 800x600 with 1 Axes>"
      ]
     },
     "metadata": {},
     "output_type": "display_data"
    }
   ],
   "source": [
    "# Make a bar plot of the GNoME data\n",
    "bar_labels = [\"GNoME stable materials\", \"GNoME - SMACT valid\"]\n",
    "counts = [len(df), df[\"smact_valid\"].sum()]\n",
    "\n",
    "\n",
    "fig, ax = plt.subplots(figsize=(8, 6))\n",
    "\n",
    "bars = ax.barh(bar_labels, counts)\n",
    "ax.bar_label(bars)\n",
    "ax.set_xlabel(\"Number of materials\")\n",
    "ax.set_title(\"GNoME analysis\")\n",
    "plt.xticks(rotation=45)\n",
    "ax.set_xlim(right=max(counts) * 1.1)  # Adjust x-axis limit based on data\n",
    "plt.tight_layout()\n",
    "plt.show()"
   ]
  },
  {
   "cell_type": "markdown",
   "id": "8",
   "metadata": {},
   "source": [
    "## Conclusion\n",
    "The SMACT validity test is a simple test that can be used to check the charge-neutrality of a material. However, it is not perfect and cannot account for elements with mixed valency in a compound. In this notebook, we have used the SMACT validity test to check the charge-neutrality of the compositions in the GNoME database. We found around 81% the materials in the GNoME database can be charged-balanced using SMACT."
   ]
  }
 ],
 "metadata": {
  "kernelspec": {
   "display_name": "smact_dev",
   "language": "python",
   "name": "python3"
  },
  "language_info": {
   "codemirror_mode": {
    "name": "ipython",
    "version": 3
   },
   "file_extension": ".py",
   "mimetype": "text/x-python",
   "name": "python",
   "nbconvert_exporter": "python",
   "pygments_lexer": "ipython3",
   "version": "3.10.14"
  }
 },
 "nbformat": 4,
 "nbformat_minor": 5
}
