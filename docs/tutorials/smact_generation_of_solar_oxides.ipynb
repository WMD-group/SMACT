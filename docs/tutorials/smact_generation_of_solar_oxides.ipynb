{
 "cells": [
  {
   "cell_type": "markdown",
   "metadata": {},
   "source": [
    "# Quaternary oxide composition generation\n",
    "\n",
    "This tutorial demonstrates how to generate a set of quaternary oxide compositions using the SMACT library and a modified `smact_filter` function from the `smact_screening` module then prepare the results for machine learning analysis."
   ]
  },
  {
   "cell_type": "markdown",
   "metadata": {},
   "source": [
    "## Prerequisites\n",
    "Before starting, ensure you have the following libraries installed:"
   ]
  },
  {
   "cell_type": "markdown",
   "metadata": {},
   "source": [
    "[![Open in Colab](https://colab.research.google.com/assets/colab-badge.svg)](https://colab.research.google.com/github/WMD-group/SMACT/blob/master/docs/tutorials/smact_generation_of_solar_oxides.ipynb)"
   ]
  },
  {
   "cell_type": "code",
   "execution_count": null,
   "metadata": {},
   "outputs": [],
   "source": [
    "# Install the required packages\n",
    "try:\n",
    "    import google.colab\n",
    "\n",
    "    IN_COLAB = True\n",
    "except:\n",
    "    IN_COLAB = False\n",
    "\n",
    "if IN_COLAB:\n",
    "    !pip install \"smact[featurisers] @ git+https://github.com/WMD-group/SMACT.git@master\" --quiet"
   ]
  },
  {
   "cell_type": "markdown",
   "metadata": {},
   "source": [
    "## Workflow\n"
   ]
  },
  {
   "cell_type": "markdown",
   "metadata": {},
   "source": [
    "### 1. Import required libraries"
   ]
  },
  {
   "cell_type": "code",
   "execution_count": null,
   "metadata": {},
   "outputs": [],
   "source": [
    "\"\"\"\n",
    "This module imports necessary libraries and modules for generating and analyzing\n",
    "quaternary oxide compositions using SMACT and machine learning techniques.\n",
    "\n",
    "\"\"\"\n",
    "# Standard library imports\n",
    "import multiprocessing\n",
    "from itertools import combinations, product\n",
    "\n",
    "# Third-party imports\n",
    "import pandas as pd\n",
    "from matminer.featurizers import composition as cf\n",
    "from matminer.featurizers.base import MultipleFeaturizer\n",
    "from matminer.featurizers.conversions import StrToComposition\n",
    "from pymatgen.core import Composition\n",
    "\n",
    "# Local imports\n",
    "import smact\n",
    "from smact import screening\n",
    "\n",
    "\"\"\"\n",
    "Imported modules:\n",
    "- multiprocessing: For parallel processing capabilities\n",
    "- itertools: For generating combinations and products\n",
    "- pandas: For data manipulation and analysis\n",
    "- matminer: For materials data mining and feature extraction\n",
    "- pymatgen: For materials analysis\n",
    "- smact: For structure prediction and analysis of new materials\n",
    "\"\"\""
   ]
  },
  {
   "cell_type": "markdown",
   "metadata": {},
   "source": [
    "### 2. Define elements and combinations\n",
    "\n",
    "Select the elements to use in our compositions"
   ]
  },
  {
   "cell_type": "code",
   "execution_count": null,
   "metadata": {},
   "outputs": [],
   "source": [
    "# Define the elements we are interested in\n",
    "all_el = smact.element_dictionary()\n",
    "symbol_list = [k for k in all_el.keys()]\n",
    "\n",
    "# List of elements to exclude\n",
    "do_not_want = [\n",
    "    \"H\",\n",
    "    \"He\",\n",
    "    \"B\",\n",
    "    \"C\",\n",
    "    \"O\",\n",
    "    \"Ne\",\n",
    "    \"Ar\",\n",
    "    \"Kr\",\n",
    "    \"Tc\",\n",
    "    \"Xe\",\n",
    "    \"Rn\",\n",
    "    \"Ac\",\n",
    "    \"Th\",\n",
    "    \"Pa\",\n",
    "    \"U\",\n",
    "    \"Np\",\n",
    "    \"Pu\",\n",
    "    \"Am\",\n",
    "    \"Cm\",\n",
    "    \"Bk\",\n",
    "    \"Cf\",\n",
    "    \"Es\",\n",
    "    \"Fm\",\n",
    "    \"Md\",\n",
    "    \"No\",\n",
    "    \"Lr\",\n",
    "    \"Ra\",\n",
    "    \"Fr\",\n",
    "    \"At\",\n",
    "    \"Po\",\n",
    "    \"Pm\",\n",
    "    \"Eu\",\n",
    "    \"Tb\",\n",
    "    \"Yb\",\n",
    "]\n",
    "\n",
    "# Create a list of elements we want to use\n",
    "good_elements = [all_el[x] for x in symbol_list if x not in do_not_want]\n",
    "\n",
    "# Generate all possible combinations of 3 elements from good_elements\n",
    "all_el_combos = combinations(good_elements, 3)"
   ]
  },
  {
   "cell_type": "markdown",
   "metadata": {},
   "source": [
    "### 3. Define SMACT filtering function\n",
    "\n",
    "Create a function to filter element combinations based on SMACT criteria:"
   ]
  },
  {
   "cell_type": "code",
   "execution_count": null,
   "metadata": {},
   "outputs": [],
   "source": [
    "def smact_filter(els):\n",
    "    \"\"\"\n",
    "    Filter element combinations based on SMACT criteria.\n",
    "\n",
    "    This function takes a combination of elements and applies SMACT\n",
    "    (Semiconducting Materials from Analogy and Chemical Theory) tests\n",
    "    to generate potential quaternary oxide compositions.\n",
    "\n",
    "    Args:\n",
    "        els (tuple): A tuple containing three Element objects.\n",
    "\n",
    "    Returns:\n",
    "        list: A list of tuples, each containing a set of elements and their ratios\n",
    "              that pass the SMACT criteria.\n",
    "    \"\"\"\n",
    "    all_compounds = []\n",
    "    elements = [e.symbol for e in els] + [\"O\"]\n",
    "\n",
    "    # Get Pauling electronegativities\n",
    "    paul_a, paul_b, paul_c = (el.pauling_eneg for el in els)\n",
    "    electronegativities = [paul_a, paul_b, paul_c, 3.44]  # 3.44 is for Oxygen\n",
    "\n",
    "    # Iterate through all possible oxidation state combinations\n",
    "    for ox_states in product(*(el.oxidation_states for el in els)):\n",
    "        ox_states = list(ox_states) + [-2]  # Add oxygen's oxidation state\n",
    "\n",
    "        # Test for charge balance\n",
    "        cn_e, cn_r = smact.neutral_ratios(ox_states, threshold=8)\n",
    "\n",
    "        if cn_e:\n",
    "            # Electronegativity test\n",
    "            if screening.pauling_test(ox_states, electronegativities):\n",
    "                compound = (elements, cn_r[0])\n",
    "                all_compounds.append(compound)\n",
    "\n",
    "    return all_compounds"
   ]
  },
  {
   "cell_type": "markdown",
   "metadata": {},
   "source": [
    "### 4. Process element combinations\n",
    "\n",
    "Use multiprocessing to apply the SMACT filter to all element combinations:\n",
    "\n",
    "Here multiprocessing is used to speed things up (generation of all compositions takes ~40 minutes on a 4GHz Intel core i7 iMac)."
   ]
  },
  {
   "cell_type": "code",
   "execution_count": null,
   "metadata": {},
   "outputs": [],
   "source": [
    "def process_element_combinations(all_el_combos):\n",
    "    \"\"\"\n",
    "    Process all element combinations using multiprocessing.\n",
    "\n",
    "    This function applies the smact_filter to all element combinations\n",
    "    using a multiprocessing pool to improve performance.\n",
    "\n",
    "    Args:\n",
    "        all_el_combos (iterable): An iterable of element combinations.\n",
    "\n",
    "    Returns:\n",
    "        list: A flattened list of all compounds that pass the SMACT criteria.\n",
    "    \"\"\"\n",
    "    with multiprocessing.Pool() as p:\n",
    "        # Apply smact_filter to all element combinations in parallel\n",
    "        result = p.map(smact_filter, all_el_combos)\n",
    "\n",
    "    # Flatten the list of results\n",
    "    flat_list = [item for sublist in result for item in sublist]\n",
    "    return flat_list\n",
    "\n",
    "\n",
    "# Process all element combinations\n",
    "flat_list = process_element_combinations(all_el_combos)\n",
    "\n",
    "# Print the number of compositions found\n",
    "print(f\"Number of compositions: {len(flat_list)}\")"
   ]
  },
  {
   "cell_type": "markdown",
   "metadata": {},
   "source": [
    "### 5. Generate pretty formulas\n",
    "\n",
    "This step turns the generated compositions into pretty formulas, again using multiprocessing. There should be ~1.1M unique formulas. "
   ]
  },
  {
   "cell_type": "code",
   "execution_count": null,
   "metadata": {},
   "outputs": [],
   "source": [
    "def comp_maker(comp):\n",
    "    \"\"\"\n",
    "    Convert a composition tuple to a pretty formula string.\n",
    "\n",
    "    Args:\n",
    "        comp (tuple): A tuple containing two lists - elements and their amounts.\n",
    "\n",
    "    Returns:\n",
    "        str: The reduced formula of the composition as a string.\n",
    "    \"\"\"\n",
    "    # Create a list to store elements and their amounts\n",
    "    form = []\n",
    "    # Iterate through elements and their amounts\n",
    "    for el, ammt in zip(comp[0], comp[1]):\n",
    "        form.append(el)\n",
    "        form.append(ammt)\n",
    "    # Join all elements into a single string\n",
    "    form = \"\".join(str(e) for e in form)\n",
    "    # Convert to a Composition object and get the reduced formula\n",
    "    pmg_form = Composition(form).reduced_formula\n",
    "    return pmg_form\n",
    "\n",
    "\n",
    "# Use multiprocessing to apply comp_maker to all compositions in flat_list\n",
    "with multiprocessing.Pool() as p:\n",
    "    pretty_formulas = p.map(comp_maker, flat_list)\n",
    "\n",
    "# Create a list of unique formulas\n",
    "unique_pretty_formulas = list(set(pretty_formulas))\n",
    "# Print the number of unique composition formulas\n",
    "print(f\"Number of unique compositions formulas: {len(unique_pretty_formulas)}\")"
   ]
  },
  {
   "cell_type": "markdown",
   "metadata": {},
   "source": [
    "### 6. Create DataFrame and add descriptors\n",
    "\n",
    "Create a DataFrame from the unique formulas and add composition-based descriptors:"
   ]
  },
  {
   "cell_type": "code",
   "execution_count": null,
   "metadata": {},
   "outputs": [],
   "source": [
    "# Create a DataFrame from the unique pretty formulas\n",
    "new_data = pd.DataFrame(unique_pretty_formulas).rename(columns={0: \"pretty_formula\"})\n",
    "\n",
    "# Remove any duplicate formulas to ensure uniqueness\n",
    "new_data = new_data.drop_duplicates(subset=\"pretty_formula\")\n",
    "\n",
    "# Display summary statistics of the DataFrame\n",
    "# This will show count, unique values, top value, and its frequency\n",
    "# new_data.describe()\n",
    "\n",
    "\n",
    "# Add descriptor columns\n",
    "# This will take a little time as we have over 1 million rows\n",
    "\n",
    "\n",
    "def add_descriptors(data):\n",
    "    \"\"\"\n",
    "    Add composition-based descriptors to the dataframe.\n",
    "\n",
    "    This function converts formula strings to composition objects and calculates\n",
    "    various features using matminer's composition featurizers.\n",
    "\n",
    "    Args:\n",
    "        data (pd.DataFrame): DataFrame containing 'pretty_formula' column.\n",
    "\n",
    "    Returns:\n",
    "        pd.DataFrame: DataFrame with added descriptor columns.\n",
    "    \"\"\"\n",
    "    # Convert formula strings to composition objects\n",
    "    str_to_comp = StrToComposition(target_col_id=\"composition_obj\")\n",
    "    str_to_comp.featurize_dataframe(data, col_id=\"pretty_formula\")\n",
    "\n",
    "    # Initialize multiple featurizers\n",
    "    feature_calculators = MultipleFeaturizer(\n",
    "        [\n",
    "            cf.Stoichiometry(),\n",
    "            cf.ElementProperty.from_preset(\"magpie\"),\n",
    "            cf.ValenceOrbital(props=[\"avg\"]),\n",
    "            cf.IonProperty(fast=True),\n",
    "            cf.BandCenter(),\n",
    "            cf.AtomicOrbitals(),\n",
    "        ]\n",
    "    )\n",
    "\n",
    "    # Calculate features\n",
    "    feature_calculators.featurize_dataframe(data, col_id=\"composition_obj\")\n",
    "\n",
    "    # If you need to use feature_labels later, uncomment the following line:\n",
    "    # feature_labels = feature_calculators.feature_labels()\n",
    "\n",
    "    return data\n",
    "\n",
    "\n",
    "# Apply the function to add descriptors\n",
    "new_data = add_descriptors(new_data)"
   ]
  },
  {
   "cell_type": "markdown",
   "metadata": {},
   "source": [
    "### 7. Save results to a CSV file"
   ]
  },
  {
   "cell_type": "code",
   "execution_count": null,
   "metadata": {},
   "outputs": [],
   "source": [
    "# Save as .csv file\n",
    "new_data.to_csv(\"All_oxide_comps_dataframe_featurized.csv\", chunksize=10000)"
   ]
  },
  {
   "cell_type": "markdown",
   "metadata": {},
   "source": [
    "# Reproducing results\n",
    "\n",
    "To reproduce these results:\n",
    "\n",
    "1. Ensure all required libraries are installed.\n",
    "\n",
    "2. Copy and run the code snippets in order.\n",
    "\n",
    "3. Be patient, as the process can take several hours depending on your hardware.\n",
    "\n",
    "The final output will be a CSV file named \"All_oxide_comps_dataframe_featurized.csv\" \n",
    "containing all generated compositions with their calculated features.\n",
    "\n",
    "Note: The exact number of compositions may vary slightly due to the nature of parallel processing and potential updates to the SMACT library"
   ]
  }
 ],
 "metadata": {
  "kernelspec": {
   "display_name": "smact_dev",
   "language": "python",
   "name": "python3"
  },
  "language_info": {
   "codemirror_mode": {
    "name": "ipython",
    "version": 3
   },
   "file_extension": ".py",
   "mimetype": "text/x-python",
   "name": "python",
   "nbconvert_exporter": "python",
   "pygments_lexer": "ipython3",
   "version": "3.10.14"
  }
 },
 "nbformat": 4,
 "nbformat_minor": 4
}
