{
 "cells": [
  {
   "cell_type": "markdown",
   "metadata": {},
   "source": [
    "# Creating oxidation states lists\n",
    "\n",
    "We have data-mined a list of oxidation states based on the structures reported in the Inorganic Crystal Structure Database (as of Sep 2024). This tutorial demonstrates how SMACT can be used to filter this pre-compiled list to produce lists of oxidation states that can be used in SMACT workflows."
   ]
  },
  {
   "cell_type": "markdown",
   "metadata": {},
   "source": [
    "## 1. Getting started\n",
    "\n"
   ]
  },
  {
   "cell_type": "markdown",
   "metadata": {},
   "source": [
    "[![Open in Colab](https://colab.research.google.com/assets/colab-badge.svg)](https://colab.research.google.com/github/WMD-group/SMACT/blob/master/docs/tutorials/filtering_icsd_oxidation_states.ipynb)"
   ]
  },
  {
   "cell_type": "code",
   "execution_count": null,
   "metadata": {},
   "outputs": [],
   "source": [
    "# Install the required packages\n",
    "try:\n",
    "    import google.colab\n",
    "\n",
    "    IN_COLAB = True\n",
    "except:\n",
    "    IN_COLAB = False\n",
    "\n",
    "if IN_COLAB:\n",
    "    !pip install \"smact[strict] @ git+https://github.com/WMD-group/SMACT.git@master\" --quiet\n",
    "\n",
    "!pip install pandarallel \"matplotlib-venn[shapely]\" --quiet"
   ]
  },
  {
   "cell_type": "code",
   "execution_count": null,
   "metadata": {},
   "outputs": [],
   "source": [
    "from smact.utils.oxidation import ICSD24OxStatesFilter\n",
    "from smact.structure_prediction.utilities import parse_spec\n",
    "import seaborn as sns\n",
    "import matplotlib.pyplot as plt\n",
    "import dash\n",
    "import plotly.graph_objects as go\n",
    "import plotly.io as pio\n",
    "from dash.dependencies import Input, Output\n",
    "from mpl_toolkits.axes_grid1.inset_locator import inset_axes\n",
    "import pymatviz as pmv\n",
    "from matplotlib_venn import venn3\n",
    "import smact\n",
    "from smact.utils.composition import comp_maker\n",
    "from smact.screening import smact_filter, smact_validity\n",
    "from mp_api.client import MPRester\n",
    "import pandas as pd\n",
    "from pandarallel import pandarallel\n",
    "from pprint import pprint\n",
    "\n",
    "# Interactive plotly figures don't show up on GitHub.\n",
    "# https://github.com/plotly/plotly.py/issues/931\n",
    "# change renderer from \"png\" to \"notebook\" to get hover tooltips back\n",
    "# (but blank plots on GitHub!)\n",
    "pio.renderers.default = \"png\"\n",
    "sns.set_theme(context=\"notebook\", style=\"ticks\", palette=\"colorblind\")"
   ]
  },
  {
   "cell_type": "markdown",
   "metadata": {},
   "source": [
    "## 2. Using the oxidation states filter"
   ]
  },
  {
   "cell_type": "code",
   "execution_count": null,
   "metadata": {},
   "outputs": [],
   "source": [
    "# Initialise the oxidation state filter\n",
    "ox_filter = ICSD24OxStatesFilter()\n",
    "ox_states_df = ox_filter.ox_states_df\n",
    "ox_states_df.head(15)"
   ]
  },
  {
   "cell_type": "markdown",
   "metadata": {},
   "source": [
    "The above code output presents a Dataframe of the occurrences of elements in particular oxidation states mined from the ICSD in September 2024. Here the results count refers to the number of structures in the ICSD that contain the element in a given oxidation state. The mininig process was quite simple, as such there are many 0 values in the table. We can use the built-in method `get_species_occurrences_df` to return a dataframe of the elements, the ionic species reported for a given element, the number of occurrences of a species in the ICSD and the species' proportion with respect to all ionic species of a given element."
   ]
  },
  {
   "cell_type": "code",
   "execution_count": null,
   "metadata": {},
   "outputs": [],
   "source": [
    "# Return the dataframe with non-zero results\n",
    "ox_filter.get_species_occurrences_df(sort_by_occurrences=False)"
   ]
  },
  {
   "cell_type": "code",
   "execution_count": null,
   "metadata": {},
   "outputs": [],
   "source": [
    "# We can also return the dataframe sorted by occurrences (results_count)\n",
    "ox_filter.get_species_occurrences_df(sort_by_occurrences=True)"
   ]
  },
  {
   "cell_type": "markdown",
   "metadata": {},
   "source": [
    "To directly produce a list of oxidation states that can be used in SMACT workflows, we have built in functions which can be used to filter the data. The method `filter` can be used to filter the data based on the number of occurrences of the oxidation state in the ICSD. The function takes the following arguments:\n",
    "\n",
    "- `consensus`: Minimum number of occurrences in literature for an ion to be considered valid. It helps to avoid unphysical species which somehow found their way into ICSD (e.g. H<sup>3+</sup>). Default is 3.\n",
    "- `include_zero`: Include oxidation state of zero in the filtered list. Default is False.\n",
    "- `commonality`: Excludes species below a certain proportion of appearances in literature with respect to the total number of reports of a given element (after the consensus threshold has been applied). \"Low\" includes all species, \"medium\" excludes rare species below 10% occurrence, and \"high\" excludes non-majority species below 50% occurrence. You can also specify your own threshold (float or int). Default is \"low\"."
   ]
  },
  {
   "cell_type": "code",
   "execution_count": null,
   "metadata": {},
   "outputs": [],
   "source": [
    "# Return a dataframe with columns element and oxidation state,\n",
    "# where oxidation state contains the oxidation states of the element in the ICSD which exceed the threshold\n",
    "ox_filter.filter(consensus=1, include_zero=False, commonality=11)"
   ]
  },
  {
   "cell_type": "markdown",
   "metadata": {},
   "source": [
    "Using the same set of arguments we can also extract the list of ionic species present above a given threshold."
   ]
  },
  {
   "cell_type": "code",
   "execution_count": null,
   "metadata": {},
   "outputs": [],
   "source": [
    "species_list_100 = ox_filter.get_species_list(\n",
    "    consensus=1, include_zero=False, commonality=11\n",
    ")\n",
    "species_list_100"
   ]
  },
  {
   "cell_type": "markdown",
   "metadata": {},
   "source": [
    "### Writing the filtered oxidation states to a file\n",
    "\n",
    "The filtered oxidation states can be written to a file using the `write` method. This method takes the `consensus`, `include_zero` and `commonality` arguments as well as:\n",
    "\n",
    "- `filename`: The name of the file to write the filtered oxidation states to.\n",
    "- `comment`: A comment to write to the file."
   ]
  },
  {
   "cell_type": "code",
   "execution_count": null,
   "metadata": {},
   "outputs": [],
   "source": [
    "# Write the results to a file\n",
    "ox_filter.write(\n",
    "    \"oxidation_states_icsd24_100.txt\",\n",
    "    consensus=1,\n",
    "    include_zero=False,\n",
    "    commonality=11,\n",
    "    comment=\"Oxidation states of elements in the 2024 version of the ICSD\",\n",
    ")"
   ]
  },
  {
   "cell_type": "code",
   "execution_count": null,
   "metadata": {},
   "outputs": [],
   "source": [
    "# Read the results from a file\n",
    "with open(\"oxidation_states_icsd24_100.txt\", \"r\") as f:\n",
    "    print(f.read())"
   ]
  },
  {
   "cell_type": "markdown",
   "metadata": {},
   "source": [
    "## Using custom Oxidation States in SMACT workflows\n",
    "\n",
    "The oxidation states filter function can be used to create SMACT-compatible oxidation state lists which can be used with the `smact_validity` function for check if a compound passes the SMACT chemical rules or with the `smact_filter` function to enumerate \"SMACT-sensible\" compositions."
   ]
  },
  {
   "cell_type": "markdown",
   "metadata": {},
   "source": [
    "### SMACT Filter\n",
    "We can enumerate SMACT-sensible compositions using the `smact_filter` function. Here, we will consider the `Zn-Ti-O` system and enumerate all possible compositions of Zn, Ti and O that pass the SMACT chemical rules. "
   ]
  },
  {
   "cell_type": "code",
   "execution_count": null,
   "metadata": {},
   "outputs": [],
   "source": [
    "# Define the elements for which we want to generate the allowed combinations\n",
    "elements = [\"Zn\", \"Ti\", \"O\"]\n",
    "\n",
    "# Create an element dictionary\n",
    "space = smact.element_dictionary(elements)\n",
    "\n",
    "# Enumerate the allowed combinations\n",
    "allowed_combinations_smact14 = smact_filter(\n",
    "    space.values(), threshold=8, oxidation_states_set=\"smact14\"\n",
    ")\n",
    "allowed_combinations_icsd24_100 = smact_filter(\n",
    "    space.values(), threshold=8, oxidation_states_set=\"oxidation_states_icsd24_100.txt\"\n",
    ")\n",
    "allowed_combinations_icsd24 = smact_filter(\n",
    "    space.values(), threshold=8, oxidation_states_set=\"icsd24\"\n",
    ")\n",
    "\n",
    "# Convert to Pymatgen Composition objects\n",
    "smact14_comps = list(set([comp_maker(c) for c in allowed_combinations_smact14]))\n",
    "icsd24_100_comps = list(set([comp_maker(c) for c in allowed_combinations_icsd24_100]))\n",
    "icsd24_comps = list(set([comp_maker(c) for c in allowed_combinations_icsd24]))\n",
    "\n",
    "# Print the number of allowed combinations\n",
    "print(\n",
    "    f\"Number of allowed combinations in the SMACT14 set: {len(allowed_combinations_smact14)}\"\n",
    ")\n",
    "print(\n",
    "    f\"Number of allowed combinations in the ICSD24 (consensus=1, include_zero=False, commonality=11) set: {len(allowed_combinations_icsd24_100)}\"\n",
    ")\n",
    "print(\n",
    "    f\"Number of allowed combinations in the ICSD24 set: {len(allowed_combinations_icsd24)}\"\n",
    ")"
   ]
  },
  {
   "cell_type": "code",
   "execution_count": null,
   "metadata": {},
   "outputs": [],
   "source": [
    "# Create the unique sets to make venn diagrams\n",
    "\n",
    "smact14_set = set(smact14_comps)\n",
    "icsd24_100_set = set(icsd24_100_comps)\n",
    "icsd24_set = set(icsd24_comps)\n",
    "\n",
    "# Create the venn diagram\n",
    "\n",
    "fig, ax = plt.subplots(figsize=(5, 5))\n",
    "\n",
    "v = venn3(\n",
    "    (smact14_set, icsd24_100_set, icsd24_set),\n",
    "    set_labels=(\"SMACT14\", \"ICSD24 filtered\", \"ICSD24\"),\n",
    ")\n",
    "\n",
    "plt.show()"
   ]
  },
  {
   "cell_type": "markdown",
   "metadata": {},
   "source": [
    "The Venn diagram provides a visual representation of the number of compositions that pass the SMACT filter using different sets of oxidation states.\n",
    "As we can see, the number of compositions that pass the SMACT filter changes depending on the oxidation states used in the filter. This suggests that the choice of oxidation states is important when using the SMACT filter. Additionally, some oxidation state lists can result in unique compositions that would not be found using other oxidation state lists.\n",
    "\n",
    "It is expected that the filtered ICSD24 list would be a subset of the ICSD24 oxidation state list. The argument settings reduce the possible compositions such that all of the enumerated compositions are a subset of the composition space enumerated using the 2014 SMACT oxidation state list."
   ]
  },
  {
   "cell_type": "code",
   "execution_count": null,
   "metadata": {},
   "outputs": [],
   "source": [
    "# Show the compositions unique to the ICSD24 set\n",
    "pprint(icsd24_set - smact14_set)"
   ]
  },
  {
   "cell_type": "markdown",
   "metadata": {},
   "source": [
    "We can see that from the list above, the unique compositions from using the ICSD 24 list all contain Zn<sup>3+</sup> which shows that it is not present in the manually compiled 2014 SMACT oxidation states list. Application of filtering criteria eliminates the compositions conataining the Zn<sup>3+</sup> oxidation state, showing that while present in the ICSD, it is not a common oxidation state for Zn."
   ]
  },
  {
   "cell_type": "code",
   "execution_count": null,
   "metadata": {},
   "outputs": [],
   "source": [
    "pprint(icsd24_100_set - smact14_set)"
   ]
  },
  {
   "cell_type": "markdown",
   "metadata": {},
   "source": [
    "### SMACT Validity\n",
    "We can check if a compound passes the SMACT chemical rules using the `smact_validity` function.\n",
    "\n",
    "Note: This function is quite simple and as such currently fails for mixed valence compounds. This is something we are working on improving in the future."
   ]
  },
  {
   "cell_type": "code",
   "execution_count": null,
   "metadata": {},
   "outputs": [],
   "source": [
    "# Query the Materials Project API for all materials that have been experimentally synthesised\n",
    "# You'll need to input your API key if it's not already set in the environment\n",
    "with MPRester(use_document_model=False) as mpr:\n",
    "    docs = mpr.materials.summary.search(\n",
    "        theoretical=False, fields=[\"material_id\", \"formula_pretty\", \"energy_above_hull\"]\n",
    "    )\n",
    "\n",
    "# Create a dataframe from the results\n",
    "\n",
    "mp_df = pd.DataFrame(docs)\n",
    "mp_df.head(10)"
   ]
  },
  {
   "cell_type": "code",
   "execution_count": null,
   "metadata": {},
   "outputs": [],
   "source": [
    "# Sort the dataframe by formula_pretty and energy_above_hull and drop duplicate formula by keeping the lowest energy above hull\n",
    "mp_df = (\n",
    "    mp_df.sort_values([\"formula_pretty\", \"energy_above_hull\"])\n",
    "    .drop_duplicates(\"formula_pretty\")\n",
    "    .reset_index(drop=True)\n",
    ")\n",
    "mp_df.head(10)"
   ]
  },
  {
   "cell_type": "code",
   "execution_count": null,
   "metadata": {},
   "outputs": [],
   "source": [
    "supplied_oxidation_states = [\n",
    "    \"smact14\",\n",
    "    \"icsd24\",\n",
    "    \"icsd16\",\n",
    "    \"pymatgen_sp\",\n",
    "    \"oxidation_states_icsd24_100.txt\",\n",
    "]\n",
    "\n",
    "pandarallel.initialize(progress_bar=True)"
   ]
  },
  {
   "cell_type": "code",
   "execution_count": null,
   "metadata": {},
   "outputs": [],
   "source": [
    "for ox_list in supplied_oxidation_states:\n",
    "    mp_df[f\"{ox_list}\"] = mp_df[\"formula_pretty\"].parallel_apply(\n",
    "        lambda x: smact_validity(x, oxidation_states_set=ox_list)\n",
    "    )\n",
    "\n",
    "mp_df.head(10)"
   ]
  },
  {
   "cell_type": "code",
   "execution_count": null,
   "metadata": {},
   "outputs": [],
   "source": [
    "# Plot the number of valid structures for each oxidation state set\n",
    "\n",
    "\n",
    "valid_counts = mp_df[[f\"{ox_list}\" for ox_list in supplied_oxidation_states]].sum()\n",
    "# Append the total number of structures to the valid_counts series\n",
    "valid_counts = pd.concat([valid_counts, pd.Series([len(mp_df)], index=[\"Total\"])])\n",
    "# Relabel the index oxidation_states_icsd24_100.txt to icsd24_100\n",
    "valid_counts.rename(\n",
    "    index={\"oxidation_states_icsd24_100.txt\": \"icsd24_100\"}, inplace=True\n",
    ")\n",
    "fig, ax = plt.subplots(figsize=(16, 8))\n",
    "# Show the numbers on the bars\n",
    "for i, v in enumerate(valid_counts.values):\n",
    "    ax.text(i, v + 10, str(v), ha=\"center\", va=\"bottom\")\n",
    "sns.barplot(x=valid_counts.index, y=valid_counts.values, ax=ax)\n",
    "ax.set_xlabel(\"Oxidation state set\")\n",
    "ax.set_ylabel(\"Number of valid structures\")\n",
    "\n",
    "#\n",
    "# Include total number of structures in the title\n",
    "\n",
    "total_structures = len(mp_df)\n",
    "ax.set_title(\n",
    "    f\"Number of valid structures for each oxidation state set (Total structures: {total_structures})\"\n",
    ")\n",
    "plt.show()"
   ]
  }
 ],
 "metadata": {
  "kernelspec": {
   "display_name": "smact_dev",
   "language": "python",
   "name": "python3"
  },
  "language_info": {
   "codemirror_mode": {
    "name": "ipython",
    "version": 3
   },
   "file_extension": ".py",
   "mimetype": "text/x-python",
   "name": "python",
   "nbconvert_exporter": "python",
   "pygments_lexer": "ipython3",
   "version": "3.10.16"
  }
 },
 "nbformat": 4,
 "nbformat_minor": 2
}
