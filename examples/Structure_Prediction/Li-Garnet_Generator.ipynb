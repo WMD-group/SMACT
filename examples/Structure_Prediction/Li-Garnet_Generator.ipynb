{
 "cells": [
  {
   "cell_type": "code",
   "execution_count": 1,
   "metadata": {},
   "outputs": [],
   "source": [
    "# Imports\n",
    "import itertools\n",
    "import multiprocessing\n",
    "from datetime import datetime\n",
    "\n",
    "import smact\n",
    "from smact import (\n",
    "    Element,\n",
    "    Species,\n",
    "    element_dictionary,\n",
    "    neutral_ratios,\n",
    "    ordered_elements,\n",
    ")\n",
    "from smact.screening import pauling_test, smact_filter"
   ]
  },
  {
   "cell_type": "code",
   "execution_count": 2,
   "metadata": {},
   "outputs": [],
   "source": [
    "# Generate the dictionary of elements\n",
    "all_el = element_dictionary(\n",
    "    elements=ordered_elements(1, 83)\n",
    ")  # A dictionary of all element objects\n",
    "symbols_list = list(all_el.keys())\n",
    "all_els = [all_el[symbol] for symbol in symbols_list]\n",
    "dont_want = [\"He\", \"Ne\", \"Ar\", \"Kr\", \"Xe\", \"Pm\", \"Tc\"]\n",
    "\n",
    "for unwanted in dont_want:\n",
    "    symbols_list.remove(unwanted)\n",
    "all_els = [all_el[symbol] for symbol in symbols_list]\n",
    "coord_els = [el.coord_envs for el in all_els]"
   ]
  },
  {
   "cell_type": "code",
   "execution_count": 3,
   "metadata": {},
   "outputs": [],
   "source": [
    "# Elements for A\n",
    "\n",
    "# A requires elements which can take a coordination state of 8\n",
    "A_els = []\n",
    "B_els = []\n",
    "\n",
    "for el in all_els:\n",
    "    if el.coord_envs == None:\n",
    "        continue\n",
    "    CNs = [i.split(\"_\")[0] for i in el.coord_envs]\n",
    "    if \"8\" in CNs:\n",
    "        A_els.append(el)\n",
    "    if \"6\" in CNs:\n",
    "        B_els.append(el)"
   ]
  },
  {
   "cell_type": "code",
   "execution_count": 4,
   "metadata": {},
   "outputs": [],
   "source": [
    "# Elements for C and D\n",
    "C_list = [\"Li\"]\n",
    "D_list = [\"O\"]\n",
    "C_els = [all_el[symbol] for symbol in C_list]\n",
    "D_els = [all_el[symbol] for symbol in D_list]"
   ]
  },
  {
   "cell_type": "code",
   "execution_count": 5,
   "metadata": {},
   "outputs": [
    {
     "name": "stdout",
     "output_type": "stream",
     "text": [
      "The number of  allowed elements for (A) are: 45 \n",
      "\n",
      "The number of allowed elements for {B} are':75 \n",
      "\n"
     ]
    }
   ],
   "source": [
    "print(f\"The number of  allowed elements for (A) are: {len(A_els)} \\n\")\n",
    "print(\"The number of allowed elements for {B} are':\" f\"{len(B_els)} \\n\")"
   ]
  },
  {
   "cell_type": "code",
   "execution_count": 6,
   "metadata": {},
   "outputs": [
    {
     "name": "stdout",
     "output_type": "stream",
     "text": [
      "We have generated 3375 potential compounds\n"
     ]
    }
   ],
   "source": [
    "# Generate the A-B-C-D combinations\n",
    "\n",
    "ABCD_pairs = [\n",
    "    (x, y, z, a) for x in A_els for y in B_els for z in C_els for a in D_els\n",
    "]\n",
    "\n",
    "# Prove to ourselves that we have all unique chemical systems\n",
    "print(f\"We have generated {len(ABCD_pairs)} potential compounds\")\n",
    "\n",
    "# for i in oxide_systems:\n",
    "#   print(f\"{i[0].symbol} {i[1].symbol} {i[2].symbol} {i[3].symbol}\")"
   ]
  },
  {
   "cell_type": "code",
   "execution_count": 7,
   "metadata": {},
   "outputs": [],
   "source": [
    "def smact_filter(els, stoichs=[[3], [2], [3], [12]], species_unique=True):\n",
    "    \"\"\"Function that applies the charge neutrality and electronegativity\n",
    "    tests in one go for simple application in external scripts that\n",
    "    wish to apply the general 'smact test'.\n",
    "\n",
    "    Args:\n",
    "        els (tuple/list): A list of smact.Element objects\n",
    "        threshold (int): Threshold for stoichiometry limit, default = 8\n",
    "        species_unique (bool): Whether or not to consider elements in different\n",
    "        oxidation states as unique in the results.\n",
    "    Returns:\n",
    "        allowed_comps (list): Allowed compositions for that chemical system\n",
    "        in the form [(elements), (oxidation states), (ratios)] if species_unique=True\n",
    "        or in the form [(elements), (ratios)] if species_unique=False.\n",
    "    \"\"\"\n",
    "    compositions = []\n",
    "\n",
    "    # Get symbols and electronegativities\n",
    "    symbols = tuple(e.symbol for e in els)\n",
    "    electronegs = [e.pauling_eneg for e in els]\n",
    "    ox_combos = [e.oxidation_states for e in els]\n",
    "    for ox_states in itertools.product(*ox_combos):\n",
    "        # Test for charge balance\n",
    "        cn_e, cn_r = neutral_ratios(ox_states, stoichs=stoichs)\n",
    "        # Electronegativity test\n",
    "        if cn_e:\n",
    "            electroneg_OK = pauling_test(ox_states, electronegs)\n",
    "            if electroneg_OK:\n",
    "                for ratio in cn_r:\n",
    "                    compositions.append(tuple([symbols, ox_states, ratio]))\n",
    "\n",
    "    # Return list depending on whether we are interested in unique species combinations\n",
    "    # or just unique element combinations.\n",
    "    if species_unique:\n",
    "        return compositions\n",
    "    else:\n",
    "        compositions = [(i[0], i[2]) for i in compositions]\n",
    "        compositions = list(set(compositions))\n",
    "        return compositions"
   ]
  },
  {
   "cell_type": "code",
   "execution_count": 11,
   "metadata": {},
   "outputs": [
    {
     "name": "stdout",
     "output_type": "stream",
     "text": [
      "Time taken to generate list:  0:00:00.175910\n"
     ]
    }
   ],
   "source": [
    "# Use multiprocessing and smact_filter to quickly generate our list of compositions\n",
    "start = datetime.now()\n",
    "if __name__ == \"__main__\":  # Always use pool protected in an if statement\n",
    "    with multiprocessing.Pool(24) as p:  # start 4 worker processes\n",
    "        result = p.map(smact_filter, ABCD_pairs)\n",
    "print(f\"Time taken to generate list:  {datetime.now() - start}\")"
   ]
  },
  {
   "cell_type": "code",
   "execution_count": 12,
   "metadata": {},
   "outputs": [
    {
     "name": "stdout",
     "output_type": "stream",
     "text": [
      "Number of compositions: --> 2504 <--\n",
      "Each list entry looks like this:\n",
      "  elements, oxidation states, stoichiometries\n",
      "(('Li', 'B', 'Li', 'O'), (1, 3, 1, -1), (3, 2, 3, 12))\n",
      "(('Li', 'C', 'Li', 'O'), (1, 3, 1, -1), (3, 2, 3, 12))\n",
      "(('Li', 'N', 'Li', 'O'), (1, 3, 1, -1), (3, 2, 3, 12))\n",
      "(('Li', 'Al', 'Li', 'O'), (1, 3, 1, -1), (3, 2, 3, 12))\n",
      "(('Li', 'Si', 'Li', 'O'), (1, 3, 1, -1), (3, 2, 3, 12))\n"
     ]
    }
   ],
   "source": [
    "# Flatten the list of lists\n",
    "flat_list = [item for sublist in result for item in sublist]\n",
    "print(f\"Number of compositions: --> {len(flat_list)} <--\")\n",
    "print(\n",
    "    \"Each list entry looks like this:\\n  elements, oxidation states, stoichiometries\"\n",
    ")\n",
    "for i in flat_list[:5]:\n",
    "    print(i)"
   ]
  },
  {
   "cell_type": "code",
   "execution_count": 13,
   "metadata": {},
   "outputs": [
    {
     "name": "stdout",
     "output_type": "stream",
     "text": [
      "Each list entry now looks like this: \n",
      "Li3BO6\n",
      "Li3CO6\n",
      "Li3NO6\n",
      "Li3AlO6\n",
      "Li3SiO6\n"
     ]
    }
   ],
   "source": [
    "from pymatgen import Composition\n",
    "\n",
    "\n",
    "def comp_maker(comp):\n",
    "    form = []\n",
    "    for el, ammt in zip(comp[0], comp[2]):\n",
    "        form.append(el)\n",
    "        form.append(ammt)\n",
    "    form = \"\".join(str(e) for e in form)\n",
    "    pmg_form = Composition(form).reduced_formula\n",
    "    return pmg_form\n",
    "\n",
    "\n",
    "if __name__ == \"__main__\":\n",
    "    with multiprocessing.Pool() as p:\n",
    "        pretty_formulas = p.map(comp_maker, flat_list)\n",
    "\n",
    "print(\"Each list entry now looks like this: \")\n",
    "for i in pretty_formulas[:5]:\n",
    "    print(i)"
   ]
  },
  {
   "cell_type": "code",
   "execution_count": 14,
   "metadata": {},
   "outputs": [
    {
     "name": "stdout",
     "output_type": "stream",
     "text": [
      "Time taken to calculate sus factors:  0:00:01.067193\n"
     ]
    }
   ],
   "source": [
    "# Calculate sustainability\n",
    "def sus_calc(comp):\n",
    "    sus_factor = 0\n",
    "    for i in Composition(comp).elements:\n",
    "        sus_factor += (\n",
    "            Composition(comp).get_wt_fraction(i) * smact.Element(i.symbol).HHI_r\n",
    "        )\n",
    "    return sus_factor\n",
    "\n",
    "\n",
    "# Compute sustainability\n",
    "start = datetime.now()\n",
    "if __name__ == \"__main__\":\n",
    "    with multiprocessing.Pool() as p:\n",
    "        sus_factors = p.map(sus_calc, pretty_formulas)\n",
    "# sus_factors=[sus_calc(Composition(i)) for i in pretty_formulas]\n",
    "print(f\"Time taken to calculate sus factors:  {datetime.now()-start}\")"
   ]
  },
  {
   "cell_type": "code",
   "execution_count": 15,
   "metadata": {},
   "outputs": [],
   "source": [
    "# We want to be able to feed in a list of species into a structure predictor\n",
    "# Need to our list in the form of [(A,x), (B,y), (C,z)]\n",
    "# Where A,B,C are species, dtype-string\n",
    "# x,y,z are the charges/oxidation state - dtype: int\n",
    "from smact.structure_prediction.utilities import parse_spec, unparse_spec\n",
    "\n",
    "species = []\n",
    "A = []\n",
    "B = []\n",
    "C = []\n",
    "D = []\n",
    "for i in range(len(flat_list)):\n",
    "    species.append(pretty_formulas[i])\n",
    "    A.append(unparse_spec((flat_list[i][0][0], flat_list[i][1][0])))\n",
    "    B.append(unparse_spec((flat_list[i][0][1], flat_list[i][1][1])))\n",
    "    C.append(unparse_spec((flat_list[i][0][2], flat_list[i][1][2])))\n",
    "    D.append(unparse_spec((flat_list[i][0][3], flat_list[i][1][3])))"
   ]
  },
  {
   "cell_type": "code",
   "execution_count": 16,
   "metadata": {},
   "outputs": [
    {
     "data": {
      "text/html": [
       "<div>\n",
       "<style scoped>\n",
       "    .dataframe tbody tr th:only-of-type {\n",
       "        vertical-align: middle;\n",
       "    }\n",
       "\n",
       "    .dataframe tbody tr th {\n",
       "        vertical-align: top;\n",
       "    }\n",
       "\n",
       "    .dataframe thead th {\n",
       "        text-align: right;\n",
       "    }\n",
       "</style>\n",
       "<table border=\"1\" class=\"dataframe\">\n",
       "  <thead>\n",
       "    <tr style=\"text-align: right;\">\n",
       "      <th></th>\n",
       "      <th>Pretty Formula</th>\n",
       "      <th>A</th>\n",
       "      <th>B</th>\n",
       "      <th>C</th>\n",
       "      <th>D</th>\n",
       "      <th>sus_factor</th>\n",
       "    </tr>\n",
       "  </thead>\n",
       "  <tbody>\n",
       "    <tr>\n",
       "      <th>0</th>\n",
       "      <td>Li3Mg3(NO6)2</td>\n",
       "      <td>Mg1+</td>\n",
       "      <td>N3+</td>\n",
       "      <td>Li1+</td>\n",
       "      <td>O1-</td>\n",
       "      <td>745.566611</td>\n",
       "    </tr>\n",
       "    <tr>\n",
       "      <th>1</th>\n",
       "      <td>Na3Li3(NO6)2</td>\n",
       "      <td>Na1+</td>\n",
       "      <td>N3+</td>\n",
       "      <td>Li1+</td>\n",
       "      <td>O1-</td>\n",
       "      <td>748.694226</td>\n",
       "    </tr>\n",
       "    <tr>\n",
       "      <th>2</th>\n",
       "      <td>Li3Mg3(CO6)2</td>\n",
       "      <td>Mg1+</td>\n",
       "      <td>C3+</td>\n",
       "      <td>Li1+</td>\n",
       "      <td>O1-</td>\n",
       "      <td>748.731405</td>\n",
       "    </tr>\n",
       "    <tr>\n",
       "      <th>3</th>\n",
       "      <td>Na3Li3(CO6)2</td>\n",
       "      <td>Na1+</td>\n",
       "      <td>C3+</td>\n",
       "      <td>Li1+</td>\n",
       "      <td>O1-</td>\n",
       "      <td>751.940682</td>\n",
       "    </tr>\n",
       "    <tr>\n",
       "      <th>4</th>\n",
       "      <td>Li3Mg3Al2O12</td>\n",
       "      <td>Mg1+</td>\n",
       "      <td>Al3+</td>\n",
       "      <td>Li1+</td>\n",
       "      <td>O1-</td>\n",
       "      <td>806.236425</td>\n",
       "    </tr>\n",
       "  </tbody>\n",
       "</table>\n",
       "</div>"
      ],
      "text/plain": [
       "  Pretty Formula     A     B     C    D  sus_factor\n",
       "0   Li3Mg3(NO6)2  Mg1+   N3+  Li1+  O1-  745.566611\n",
       "1   Na3Li3(NO6)2  Na1+   N3+  Li1+  O1-  748.694226\n",
       "2   Li3Mg3(CO6)2  Mg1+   C3+  Li1+  O1-  748.731405\n",
       "3   Na3Li3(CO6)2  Na1+   C3+  Li1+  O1-  751.940682\n",
       "4   Li3Mg3Al2O12  Mg1+  Al3+  Li1+  O1-  806.236425"
      ]
     },
     "execution_count": 16,
     "metadata": {},
     "output_type": "execute_result"
    }
   ],
   "source": [
    "import pandas as pd\n",
    "\n",
    "columns = [\"Pretty Formula\", \"A\", \"B\", \"C\", \"D\"]\n",
    "df_list = [[species[i], A[i], B[i], C[i], D[i]] for i in range(len(species))]\n",
    "df = pd.DataFrame(data=df_list, columns=columns)\n",
    "df[\"sus_factor\"] = sus_factors\n",
    "df = df.sort_values(by=\"sus_factor\", ascending=True)\n",
    "df = df.reset_index(drop=True)\n",
    "\n",
    "df.head()"
   ]
  },
  {
   "cell_type": "code",
   "execution_count": 17,
   "metadata": {},
   "outputs": [
    {
     "data": {
      "text/html": [
       "<div>\n",
       "<style scoped>\n",
       "    .dataframe tbody tr th:only-of-type {\n",
       "        vertical-align: middle;\n",
       "    }\n",
       "\n",
       "    .dataframe tbody tr th {\n",
       "        vertical-align: top;\n",
       "    }\n",
       "\n",
       "    .dataframe thead th {\n",
       "        text-align: right;\n",
       "    }\n",
       "</style>\n",
       "<table border=\"1\" class=\"dataframe\">\n",
       "  <thead>\n",
       "    <tr style=\"text-align: right;\">\n",
       "      <th></th>\n",
       "      <th>Pretty Formula</th>\n",
       "      <th>A</th>\n",
       "      <th>B</th>\n",
       "      <th>C</th>\n",
       "      <th>D</th>\n",
       "      <th>sus_factor</th>\n",
       "    </tr>\n",
       "  </thead>\n",
       "  <tbody>\n",
       "    <tr>\n",
       "      <th>0</th>\n",
       "      <td>Li3Mg3(NO6)2</td>\n",
       "      <td>Mg1+</td>\n",
       "      <td>N3+</td>\n",
       "      <td>Li1+</td>\n",
       "      <td>O1-</td>\n",
       "      <td>745.566611</td>\n",
       "    </tr>\n",
       "    <tr>\n",
       "      <th>1</th>\n",
       "      <td>Na3Li3(NO6)2</td>\n",
       "      <td>Na1+</td>\n",
       "      <td>N3+</td>\n",
       "      <td>Li1+</td>\n",
       "      <td>O1-</td>\n",
       "      <td>748.694226</td>\n",
       "    </tr>\n",
       "    <tr>\n",
       "      <th>2</th>\n",
       "      <td>Li3Mg3(CO6)2</td>\n",
       "      <td>Mg1+</td>\n",
       "      <td>C3+</td>\n",
       "      <td>Li1+</td>\n",
       "      <td>O1-</td>\n",
       "      <td>748.731405</td>\n",
       "    </tr>\n",
       "    <tr>\n",
       "      <th>3</th>\n",
       "      <td>Na3Li3(CO6)2</td>\n",
       "      <td>Na1+</td>\n",
       "      <td>C3+</td>\n",
       "      <td>Li1+</td>\n",
       "      <td>O1-</td>\n",
       "      <td>751.940682</td>\n",
       "    </tr>\n",
       "    <tr>\n",
       "      <th>4</th>\n",
       "      <td>Li3Mg3Al2O12</td>\n",
       "      <td>Mg1+</td>\n",
       "      <td>Al3+</td>\n",
       "      <td>Li1+</td>\n",
       "      <td>O1-</td>\n",
       "      <td>806.236425</td>\n",
       "    </tr>\n",
       "  </tbody>\n",
       "</table>\n",
       "</div>"
      ],
      "text/plain": [
       "  Pretty Formula     A     B     C    D  sus_factor\n",
       "0   Li3Mg3(NO6)2  Mg1+   N3+  Li1+  O1-  745.566611\n",
       "1   Na3Li3(NO6)2  Na1+   N3+  Li1+  O1-  748.694226\n",
       "2   Li3Mg3(CO6)2  Mg1+   C3+  Li1+  O1-  748.731405\n",
       "3   Na3Li3(CO6)2  Na1+   C3+  Li1+  O1-  751.940682\n",
       "4   Li3Mg3Al2O12  Mg1+  Al3+  Li1+  O1-  806.236425"
      ]
     },
     "execution_count": 17,
     "metadata": {},
     "output_type": "execute_result"
    }
   ],
   "source": [
    "df.to_csv(\"./Li-Garnet_Comps_sus.csv\", index=False)\n",
    "df.head()"
   ]
  },
  {
   "cell_type": "code",
   "execution_count": null,
   "metadata": {},
   "outputs": [],
   "source": []
  }
 ],
 "metadata": {
  "kernelspec": {
   "display_name": "Python 3",
   "language": "python",
   "name": "python3"
  },
  "language_info": {
   "codemirror_mode": {
    "name": "ipython",
    "version": 3
   },
   "file_extension": ".py",
   "mimetype": "text/x-python",
   "name": "python",
   "nbconvert_exporter": "python",
   "pygments_lexer": "ipython3",
   "version": "3.8.10"
  }
 },
 "nbformat": 4,
 "nbformat_minor": 4
}
