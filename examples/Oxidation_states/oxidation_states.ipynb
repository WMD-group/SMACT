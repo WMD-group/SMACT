{
 "cells": [
  {
   "cell_type": "markdown",
   "metadata": {},
   "source": [
    "# Oxidation states\n",
    "Here, we will demonstrate the main functionalities of the `oxidation_states` submodule of SMACT."
   ]
  },
  {
   "cell_type": "code",
   "execution_count": 1,
   "metadata": {},
   "outputs": [],
   "source": [
    "# Imports\n",
    "import re\n",
    "from itertools import combinations, product\n",
    "\n",
    "import matplotlib.pyplot as plt\n",
    "import multiprocess\n",
    "import numpy as np\n",
    "import pandas as pd\n",
    "from pymatgen.core import Composition, Structure\n",
    "\n",
    "import smact\n",
    "from smact import Element, Species, screening\n",
    "from smact.oxidation_states import Oxidation_state_probability_finder"
   ]
  },
  {
   "cell_type": "markdown",
   "metadata": {},
   "source": [
    "## Getting started with the oxidation_states submodule\n",
    "\n",
    "The main class of the `smact.oxidation_states` submodule is `Oxidation_state_probability_finder`. We will demonstrate the usage of the methods of this class below."
   ]
  },
  {
   "cell_type": "code",
   "execution_count": 2,
   "metadata": {},
   "outputs": [],
   "source": [
    "# Instantiate the oxidation state probability finder class with the default table\n",
    "ox_prob_finder = Oxidation_state_probability_finder()"
   ]
  },
  {
   "cell_type": "markdown",
   "metadata": {},
   "source": [
    "After instantiating the class, we can examine what species are included in the probability table through the `get_included_species` method."
   ]
  },
  {
   "cell_type": "code",
   "execution_count": 3,
   "metadata": {},
   "outputs": [
    {
     "name": "stdout",
     "output_type": "stream",
     "text": [
      "The species included in the probability table for the oxidation states model are show below \n",
      "['Cl-1', 'O-2', 'S-2', 'I-1', 'Br-1', 'F-1', 'Se-2', 'Te-2', 'La2', 'Pr2', 'Tb2', 'Sc1', 'Cr3', 'Sc2', 'Tl3', 'Ru2', 'Mn7', 'W3', 'Ir5', 'Ru6', 'Ho3', 'Ag3', 'Cs1', 'Eu3', 'Mn2', 'Cd2', 'Re2', 'In3', 'Ta1', 'Ca2', 'Re7', 'U5', 'Zn2', 'Yb3', 'Hg2', 'W5', 'Co3', 'Ru5', 'Er3', 'Sm2', 'Ir3', 'Ru4', 'Sb4', 'Zr3', 'Lu3', 'Ta5', 'Ru3', 'U2', 'Tl1', 'V4', 'La3', 'Re3', 'Ag1', 'Sn2', 'Sm3', 'Th4', 'Tm2', 'Ga3', 'Co1', 'Ce3', 'Co2', 'Rh4', 'Bi5', 'Pd4', 'Pb2', 'Gd2', 'Nb4', 'Gd3', 'Bi1', 'Li1', 'Pd2', 'V5', 'Y3', 'Dy2', 'Sn4', 'Th3', 'Sb5', 'Fe4', 'Cr6', 'W4', 'Ti3', 'Ni2', 'Re5', 'U3', 'Ge2', 'Sn3', 'Bi3', 'Eu2', 'Sc3', 'Zr4', 'In2', 'Cr5', 'Mn3', 'Tb3', 'Ag2', 'Fe3', 'Ir4', 'Ga1', 'Cu2', 'Sr2', 'W2', 'Mo5', 'Tb4', 'Mn6', 'Ta4', 'Cu1', 'Fe2', 'Mn4', 'U6', 'Pr3', 'Bi2', 'Zr2', 'Nd3', 'Ta3', 'Ti2', 'Mg2', 'Cu3', 'V2', 'Tm3', 'W6', 'Rb1', 'Ta2', 'K1', 'Ga2', 'Ti4', 'Ba2', 'Mn1', 'La1', 'Cr2', 'Al3', 'U4', 'Ge4', 'Nd2', 'Mo3', 'Yb2', 'Tb1', 'Ge3', 'Ni1', 'Nb5', 'Rh3', 'Hf4', 'Nb3', 'Ni3', 'Dy3', 'Re6', 'Na1', 'In1', 'Hg1', 'Rh1', 'Y2', 'Pd3', 'Ce2', 'Sb3', 'Cr4', 'Y1', 'Zr1', 'Hf2', 'Pb4', 'Nb1', 'Fe1', 'Ni4', 'Ce4', 'Mn5', 'Mo6', 'Ho2', 'Nb2', 'Ir6', 'Mo4', 'V3', 'Mo2', 'Co4', 'Re4', 'Be2']\n"
     ]
    }
   ],
   "source": [
    "included_species = ox_prob_finder.get_included_species()\n",
    "\n",
    "print(\n",
    "    f\"The species included in the probability table for the oxidation states model are show below \\n{included_species}\"\n",
    ")"
   ]
  },
  {
   "cell_type": "markdown",
   "metadata": {},
   "source": [
    "We can compute the probability of a cation-anion pair appearing together using the method `pair_probability` as demonstrated below for Al<sup>3+</sup> and O<sup>2-</sup>. The pair probability for a species-anion pair ($P_{SA}$) is given by:\n",
    "\n",
    "$P_{SA} = \\frac{N_{SX}}{N_{MX}}$\n",
    "\n",
    "where $N_{MX}$ is the total number of compounds containing the metal element M, and X is the most electronegative anion."
   ]
  },
  {
   "cell_type": "code",
   "execution_count": 4,
   "metadata": {},
   "outputs": [
    {
     "name": "stdout",
     "output_type": "stream",
     "text": [
      " The probability of Al existing in 3+ oxidation states with O in a 2- oxidation state is 1.0\n"
     ]
    }
   ],
   "source": [
    "Al = Species(\"Al\", oxidation=3, coordination=6)\n",
    "O = Species(\"O\", oxidation=-2, coordination=6)\n",
    "\n",
    "print(\n",
    "    f\" The probability of Al existing in 3+ oxidation states with O in a 2- oxidation state is {ox_prob_finder.pair_probability(Al,O)}\"\n",
    ")"
   ]
  },
  {
   "cell_type": "markdown",
   "metadata": {},
   "source": [
    "We can also compute the compound probability which for a ternary compound, A<sub>a</sub>B<sub>b</sub>X<sub>x</sub>, is given by:\n",
    "\n",
    "$P_{A_{a}B_{b}X_{x}} = P_{AX}P_{BX} = \\frac{N_{AX}}{N_{M_{A}X}} \\times \\frac{N_{BX}}{N_{M_{B}X}}$\n",
    "\n",
    "We will calculate $P_{CaAl_{2}O_{4}}$."
   ]
  },
  {
   "cell_type": "code",
   "execution_count": 5,
   "metadata": {},
   "outputs": [
    {
     "name": "stdout",
     "output_type": "stream",
     "text": [
      "The compound probability for CaAl2O4 is 1.0.\n"
     ]
    }
   ],
   "source": [
    "# Create a list of species for our compound of interest\n",
    "CaAl2O4 = [Species(\"Ca\", 2), Species(\"Al\", 3), Species(\"O\", -2)]\n",
    "\n",
    "prob_compound = ox_prob_finder.compound_probability(CaAl2O4)\n",
    "\n",
    "print(f\"The compound probability for CaAl2O4 is {prob_compound}.\")"
   ]
  },
  {
   "cell_type": "markdown",
   "metadata": {},
   "source": [
    "We can compute this compound probability for a pymatgen Structure as well."
   ]
  },
  {
   "cell_type": "code",
   "execution_count": 6,
   "metadata": {},
   "outputs": [
    {
     "name": "stdout",
     "output_type": "stream",
     "text": [
      "The structure of mp-540839 CsPbI3:\n",
      "\n",
      "Full Formula (Cs4 Pb4 I12)\n",
      "Reduced Formula: CsPbI3\n",
      "abc   :   4.847142  10.650447  18.031199\n",
      "angles:  90.000000  90.000000  90.000000\n",
      "pbc   :       True       True       True\n",
      "Sites (20)\n",
      "  #  SP       a         b         c\n",
      "---  ----  ----  --------  --------\n",
      "  0  Cs+   0.75  0.581276  0.17212\n",
      "  1  Cs+   0.25  0.418724  0.82788\n",
      "  2  Cs+   0.75  0.081276  0.32788\n",
      "  3  Cs+   0.25  0.918724  0.67212\n",
      "  4  Pb2+  0.25  0.661849  0.439217\n",
      "  5  Pb2+  0.75  0.338151  0.560783\n",
      "  6  Pb2+  0.25  0.161849  0.060783\n",
      "  7  Pb2+  0.75  0.838151  0.939217\n",
      "  8  I-    0.75  0.837211  0.502045\n",
      "  9  I-    0.25  0.162789  0.497955\n",
      " 10  I-    0.75  0.337211  0.997955\n",
      " 11  I-    0.25  0.662789  0.002045\n",
      " 12  I-    0.25  0.529272  0.612308\n",
      " 13  I-    0.75  0.470728  0.387692\n",
      " 14  I-    0.25  0.029272  0.887692\n",
      " 15  I-    0.75  0.970728  0.112308\n",
      " 16  I-    0.25  0.796317  0.287306\n",
      " 17  I-    0.75  0.203683  0.712694\n",
      " 18  I-    0.25  0.296317  0.212694\n",
      " 19  I-    0.75  0.703683  0.787306\n",
      "\n",
      "The compound probability for CsPbI3 is 1.0.\n"
     ]
    },
    {
     "name": "stderr",
     "output_type": "stream",
     "text": [
      "/home/codespace/.python/current/lib/python3.10/site-packages/pymatgen/io/cif.py:1186: UserWarning: The default value of primitive was changed from True to False in https://github.com/materialsproject/pymatgen/pull/3419. CifParser now returns the cell in the CIF file as is. If you want the primitive cell, please set primitive=True explicitly.\n",
      "  warnings.warn(\n"
     ]
    }
   ],
   "source": [
    "# Load the structure file\n",
    "\n",
    "struct = Structure.from_file(\"mp-540839_CsPbI3_oxi.cif\")\n",
    "print(\"The structure of mp-540839 CsPbI3:\\n\")\n",
    "print(struct)\n",
    "\n",
    "\n",
    "# Get the compound probability for CsPbI3\n",
    "prob = ox_prob_finder.compound_probability(struct)\n",
    "\n",
    "print(f\"\\nThe compound probability for CsPbI3 is {prob_compound}.\")"
   ]
  },
  {
   "cell_type": "code",
   "execution_count": null,
   "metadata": {},
   "outputs": [],
   "source": []
  },
  {
   "cell_type": "markdown",
   "metadata": {},
   "source": [
    "## Filtering a SMACT search space using the oxidation states model\n",
    "\n",
    "Let's attempt to perform the first steps in a high-throughput compound design workflow which involves:\n",
    "* Generating the search space using SMACT\n",
    "* Filtering the search space using the oxidation states model."
   ]
  },
  {
   "cell_type": "markdown",
   "metadata": {},
   "source": [
    "### Composition generation"
   ]
  },
  {
   "cell_type": "code",
   "execution_count": 7,
   "metadata": {
    "tags": [
     "hide-input",
     "hide-output"
    ]
   },
   "outputs": [],
   "source": [
    "# Get the cations that are in the probability table\n",
    "cations = [\n",
    "    species\n",
    "    for species in ox_prob_finder.get_included_species()\n",
    "    if \"-\" not in species\n",
    "]\n",
    "\n",
    "# Get the symbols of the d-block elements\n",
    "d_block_symbols = (\n",
    "    smact.ordered_elements(21, 30)\n",
    "    + smact.ordered_elements(39, 48)\n",
    "    + smact.ordered_elements(71, 80)\n",
    ")\n",
    "\n",
    "# This function will parse the species included in the probability table\n",
    "\n",
    "\n",
    "def parse_species(species):\n",
    "    match = re.match(r\"([A-Za-z]+)([0-9.]+)\", species)\n",
    "    return match.group(1), int(match.group(2))\n",
    "\n",
    "\n",
    "# Create a list of the d-block smact.Species objects from the d-block species in the table\n",
    "allowed_dblock_species = [\n",
    "    Species(parse_species(cation)[0], parse_species(cation)[1])\n",
    "    for cation in cations\n",
    "    if parse_species(cation)[0] in d_block_symbols\n",
    "]\n",
    "\n",
    "# Get all the combinations of the d_block smact.Species objects\n",
    "d_block_species_combos = combinations(allowed_dblock_species, 2)\n",
    "\n",
    "# Use this custom smact_filter function to generate the plausible compositions\n",
    "\n",
    "\n",
    "def smact_filter(els):\n",
    "    all_compounds = []\n",
    "    halide_symbols = [\"F\", \"Cl\", \"Br\", \"I\"]\n",
    "\n",
    "    for halide in halide_symbols:\n",
    "        elements = [e.symbol for e in els] + [halide]\n",
    "\n",
    "        halide_species = Species(halide, -1)\n",
    "\n",
    "        # Get the Pauling electronegativities\n",
    "        paul_a, paul_b, paul_x = (\n",
    "            els[0].pauling_eneg,\n",
    "            els[1].pauling_eneg,\n",
    "            halide_species.pauling_eneg,\n",
    "        )\n",
    "        electronegativities = [paul_a, paul_b, paul_x]\n",
    "\n",
    "        # For each set of species (in oxidation states) apply both SMACT tests\n",
    "        ox_a, ox_b = els[0].oxidation, els[1].oxidation\n",
    "        ox_states = [ox_a, ox_b, -1]\n",
    "        # Test for charge balance\n",
    "        cn_e, cn_r = smact.neutral_ratios(ox_states, threshold=8)\n",
    "        if cn_e:\n",
    "            # Electronegativity test\n",
    "            electroneg_OK = screening.pauling_test(\n",
    "                ox_states, electronegativities\n",
    "            )\n",
    "            if electroneg_OK:\n",
    "                compound = tuple(\n",
    "                    [\n",
    "                        elements,\n",
    "                        (ox_a, ox_b, -1),\n",
    "                        cn_r[0],\n",
    "                        list(els) + [halide_species],\n",
    "                    ]\n",
    "                )\n",
    "                all_compounds.append(compound)\n",
    "    return all_compounds"
   ]
  },
  {
   "cell_type": "code",
   "execution_count": 8,
   "metadata": {
    "tags": [
     "hide-input",
     "hide-output"
    ]
   },
   "outputs": [
    {
     "name": "stdout",
     "output_type": "stream",
     "text": [
      "Number of compositions: 14832\n",
      "Each list entry looks like this:\n",
      "  elements, oxidation states, stoichiometries\n",
      "['Sc', 'Cr', 'F'] (1, 3, -1) (1, 1, 4)\n",
      "['Sc', 'Cr', 'Cl'] (1, 3, -1) (1, 1, 4)\n",
      "['Sc', 'Cr', 'Br'] (1, 3, -1) (1, 1, 4)\n",
      "['Sc', 'Cr', 'I'] (1, 3, -1) (1, 1, 4)\n",
      "['Sc', 'Sc', 'F'] (1, 2, -1) (1, 1, 3)\n"
     ]
    }
   ],
   "source": [
    "# Use multiprocess to speed up the generation of the combinations\n",
    "with multiprocess.Pool(3) as p:\n",
    "    result = p.map(smact_filter, d_block_species_combos)\n",
    "\n",
    "flat_list = [item for sublist in result for item in sublist]\n",
    "\n",
    "# Here we grab the species string for each composition generated by smact\n",
    "list_of_species = [species[3] for species in flat_list]\n",
    "A_species = [\n",
    "    f\"{species[0].symbol}{species[0].oxidation}+\" for species in list_of_species\n",
    "]\n",
    "B_species = [\n",
    "    f\"{species[1].symbol}{species[1].oxidation}+\" for species in list_of_species\n",
    "]\n",
    "X_species = [f\"{species[2].symbol}1-\" for species in list_of_species]\n",
    "\n",
    "# Print out the first few entries from our search space\n",
    "print(f\"Number of compositions: {len(flat_list)}\")\n",
    "print(\n",
    "    \"Each list entry looks like this:\\n  elements, oxidation states, stoichiometries\"\n",
    ")\n",
    "for i in flat_list[:5]:\n",
    "    print(i[0], i[1], i[2])"
   ]
  },
  {
   "cell_type": "code",
   "execution_count": 9,
   "metadata": {
    "tags": [
     "hide-input",
     "hide-output"
    ]
   },
   "outputs": [
    {
     "name": "stdout",
     "output_type": "stream",
     "text": [
      "Each list entry now looks like this: \n",
      "ScCrF4\n",
      "ScCrCl4\n",
      "ScCrBr4\n",
      "ScCrI4\n",
      "Sc2F3\n"
     ]
    }
   ],
   "source": [
    "# Get the formulas for the compositions\n",
    "\n",
    "\n",
    "def comp_maker(comp):\n",
    "    form = []\n",
    "    for el, ammt in zip(comp[0], comp[2]):\n",
    "        form.append(el)\n",
    "        form.append(ammt)\n",
    "    form = \"\".join(str(e) for e in form)\n",
    "    pmg_form = Composition(form).reduced_formula\n",
    "    return pmg_form\n",
    "\n",
    "\n",
    "if __name__ == \"__main__\":\n",
    "    with multiprocess.Pool(3) as p:\n",
    "        pretty_formulas = p.map(comp_maker, flat_list)\n",
    "\n",
    "print(\"Each list entry now looks like this: \")\n",
    "for i in pretty_formulas[:5]:\n",
    "    print(i)"
   ]
  },
  {
   "cell_type": "markdown",
   "metadata": {},
   "source": [
    "### Applying the oxidation states model\n",
    "The method `compound_probability` of the `Oxidation_state_probability_finder` class enables us to compute the likelihood of the metal species existing in the presence of particular anions. We will apply this to all the compounds generated by `smact`"
   ]
  },
  {
   "cell_type": "code",
   "execution_count": 10,
   "metadata": {},
   "outputs": [],
   "source": [
    "# Compute the compound probabilities\n",
    "compound_probabilities = [\n",
    "    ox_prob_finder.compound_probability(spec) for spec in list_of_species\n",
    "]"
   ]
  },
  {
   "cell_type": "code",
   "execution_count": 11,
   "metadata": {},
   "outputs": [
    {
     "data": {
      "text/html": [
       "<div>\n",
       "<style scoped>\n",
       "    .dataframe tbody tr th:only-of-type {\n",
       "        vertical-align: middle;\n",
       "    }\n",
       "\n",
       "    .dataframe tbody tr th {\n",
       "        vertical-align: top;\n",
       "    }\n",
       "\n",
       "    .dataframe thead th {\n",
       "        text-align: right;\n",
       "    }\n",
       "</style>\n",
       "<table border=\"1\" class=\"dataframe\">\n",
       "  <thead>\n",
       "    <tr style=\"text-align: right;\">\n",
       "      <th></th>\n",
       "      <th>formula_pretty</th>\n",
       "      <th>A</th>\n",
       "      <th>B</th>\n",
       "      <th>X</th>\n",
       "      <th>compound_probability</th>\n",
       "    </tr>\n",
       "  </thead>\n",
       "  <tbody>\n",
       "    <tr>\n",
       "      <th>0</th>\n",
       "      <td>ScCrF4</td>\n",
       "      <td>Sc1+</td>\n",
       "      <td>Cr3+</td>\n",
       "      <td>F1-</td>\n",
       "      <td>0.289474</td>\n",
       "    </tr>\n",
       "    <tr>\n",
       "      <th>1</th>\n",
       "      <td>ScCrCl4</td>\n",
       "      <td>Sc1+</td>\n",
       "      <td>Cr3+</td>\n",
       "      <td>Cl1-</td>\n",
       "      <td>0.227273</td>\n",
       "    </tr>\n",
       "    <tr>\n",
       "      <th>2</th>\n",
       "      <td>ScCrBr4</td>\n",
       "      <td>Sc1+</td>\n",
       "      <td>Cr3+</td>\n",
       "      <td>Br1-</td>\n",
       "      <td>0.285714</td>\n",
       "    </tr>\n",
       "    <tr>\n",
       "      <th>3</th>\n",
       "      <td>ScCrI4</td>\n",
       "      <td>Sc1+</td>\n",
       "      <td>Cr3+</td>\n",
       "      <td>I1-</td>\n",
       "      <td>0.111111</td>\n",
       "    </tr>\n",
       "    <tr>\n",
       "      <th>4</th>\n",
       "      <td>Sc2F3</td>\n",
       "      <td>Sc1+</td>\n",
       "      <td>Sc2+</td>\n",
       "      <td>F1-</td>\n",
       "      <td>0.000000</td>\n",
       "    </tr>\n",
       "  </tbody>\n",
       "</table>\n",
       "</div>"
      ],
      "text/plain": [
       "  formula_pretty     A     B     X  compound_probability\n",
       "0         ScCrF4  Sc1+  Cr3+   F1-              0.289474\n",
       "1        ScCrCl4  Sc1+  Cr3+  Cl1-              0.227273\n",
       "2        ScCrBr4  Sc1+  Cr3+  Br1-              0.285714\n",
       "3         ScCrI4  Sc1+  Cr3+   I1-              0.111111\n",
       "4          Sc2F3  Sc1+  Sc2+   F1-              0.000000"
      ]
     },
     "execution_count": 11,
     "metadata": {},
     "output_type": "execute_result"
    }
   ],
   "source": [
    "# Create a dataframe\n",
    "data = {\n",
    "    \"formula_pretty\": pretty_formulas,\n",
    "    \"A\": A_species,\n",
    "    \"B\": B_species,\n",
    "    \"X\": X_species,\n",
    "    \"compound_probability\": compound_probabilities,\n",
    "}\n",
    "\n",
    "df = pd.DataFrame(data)\n",
    "df.head()"
   ]
  },
  {
   "cell_type": "code",
   "execution_count": 12,
   "metadata": {},
   "outputs": [
    {
     "name": "stdout",
     "output_type": "stream",
     "text": [
      "The original smact search space produced 14832 compositons of which 12671 had a non-zero compound probability\n"
     ]
    }
   ],
   "source": [
    "# Compute the number of non-zero compound probabilities\n",
    "\n",
    "# Convert the probability values from a pandas.Series object to a numpy array\n",
    "probs = df.compound_probability.to_numpy()\n",
    "\n",
    "# Create a numpy array of the non-zero probabilities\n",
    "non_Zero_probs = probs[(probs > 0)]\n",
    "\n",
    "print(\n",
    "    f\"The original smact search space produced {len(probs)} compositons of which {len(non_Zero_probs)} had a non-zero compound probability\"\n",
    ")"
   ]
  },
  {
   "cell_type": "markdown",
   "metadata": {},
   "source": [
    "#### Visualising the compound probabilities of the SMACT generated compositions.\n",
    "We will now plot the number of compounds as a function of the probability threshold."
   ]
  },
  {
   "cell_type": "code",
   "execution_count": 13,
   "metadata": {},
   "outputs": [
    {
     "data": {
      "image/png": "[encoded data removed]",
      "text/plain": [
       "<Figure size 640x480 with 1 Axes>"
      ]
     },
     "metadata": {},
     "output_type": "display_data"
    }
   ],
   "source": [
    "# Create a numpy array of 100 threshold values\n",
    "thresh = np.linspace(0.0, 1.0, 100)\n",
    "\n",
    "# Use a list comprehension to generate a list of the number of compounds as a function of the probability threshold\n",
    "num_compounds = [len(probs[(probs >= t)]) for t in thresh]\n",
    "\n",
    "# Set up the figure and plot the number of compounds against the threshold\n",
    "fig, ax = plt.subplots()\n",
    "\n",
    "ax.scatter(x=thresh, y=num_compounds, marker=\"x\", color=\"orange\")\n",
    "plt.xlabel(\"Threshold\")\n",
    "plt.ylabel(\"Number of compounds\")\n",
    "\n",
    "plt.show()"
   ]
  }
 ],
 "metadata": {
  "kernelspec": {
   "display_name": "Python 3.8.13 ('smact_tests')",
   "language": "python",
   "name": "python3"
  },
  "language_info": {
   "codemirror_mode": {
    "name": "ipython",
    "version": 3
   },
   "file_extension": ".py",
   "mimetype": "text/x-python",
   "name": "python",
   "nbconvert_exporter": "python",
   "pygments_lexer": "ipython3",
   "version": "3.10.13"
  },
  "orig_nbformat": 4,
  "vscode": {
   "interpreter": {
    "hash": "9f89bce96645c075fd87ba4308874c26726cf41cb3962e47a97b7697a60dd355"
   }
  }
 },
 "nbformat": 4,
 "nbformat_minor": 2
}
